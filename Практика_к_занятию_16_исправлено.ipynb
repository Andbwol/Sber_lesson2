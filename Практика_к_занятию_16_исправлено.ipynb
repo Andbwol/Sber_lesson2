{
  "cells": [
    {
      "cell_type": "markdown",
      "metadata": {
        "id": "view-in-github",
        "colab_type": "text"
      },
      "source": [
        "<a href=\"https://colab.research.google.com/github/Andbwol/Sber_lesson2/blob/main/%D0%9F%D1%80%D0%B0%D0%BA%D1%82%D0%B8%D0%BA%D0%B0_%D0%BA_%D0%B7%D0%B0%D0%BD%D1%8F%D1%82%D0%B8%D1%8E_16_%D0%B8%D1%81%D0%BF%D1%80%D0%B0%D0%B2%D0%BB%D0%B5%D0%BD%D0%BE.ipynb\" target=\"_parent\"><img src=\"https://colab.research.google.com/assets/colab-badge.svg\" alt=\"Open In Colab\"/></a>"
      ]
    },
    {
      "cell_type": "markdown",
      "metadata": {
        "id": "pDrecLU-4QjS"
      },
      "source": [
        "# Практика"
      ]
    },
    {
      "cell_type": "markdown",
      "metadata": {
        "id": "gUvTNDlMaV-a"
      },
      "source": [
        "## Определение вероятности. События\n",
        "\n",
        "Требуется сгенерировать необходимые выборки и произвести по ним расчеты"
      ]
    },
    {
      "cell_type": "markdown",
      "metadata": {
        "id": "5V70InEBTgup"
      },
      "source": [
        "### Задача 1\n",
        "Брошено две монеты. Найти вероятность того, что монеты выпали разными сторонами"
      ]
    },
    {
      "cell_type": "code",
      "source": [
        "import pandas as pd\n",
        "import numpy as np\n",
        "import matplotlib.pyplot as plt\n",
        "import random\n",
        "import scipy.stats as sts\n",
        "import warnings\n",
        "warnings.filterwarnings('ignore')"
      ],
      "metadata": {
        "id": "RAzNKd5FgR0B"
      },
      "execution_count": 1,
      "outputs": []
    },
    {
      "cell_type": "markdown",
      "source": [
        "Подбрасываем 2 монеты. У каждой вероятность выпасть орел/решка 0,5."
      ],
      "metadata": {
        "id": "Nwyt0WNwaByY"
      }
    },
    {
      "cell_type": "code",
      "source": [
        "N = 10000 # число испытаний"
      ],
      "metadata": {
        "id": "DFEJswLHvbh0"
      },
      "execution_count": 96,
      "outputs": []
    },
    {
      "cell_type": "code",
      "source": [
        "binomial_rv = sts.binom(1, 0.5)\n",
        "\n",
        "M1 = binomial_rv.rvs(N)"
      ],
      "metadata": {
        "id": "gkCbT7I-XNnt"
      },
      "execution_count": 97,
      "outputs": []
    },
    {
      "cell_type": "code",
      "source": [
        "M2 = binomial_rv.rvs(N)"
      ],
      "metadata": {
        "id": "3kRVxyHgaUqZ"
      },
      "execution_count": 98,
      "outputs": []
    },
    {
      "cell_type": "code",
      "source": [
        "M3 = np.arange(N)\n",
        "for i in range(N):\n",
        "  if M1[i] == M2[i]:\n",
        "    M3[i] = 0\n",
        "  else: M3[i] = 1"
      ],
      "metadata": {
        "id": "OCmjDbJEbB90"
      },
      "execution_count": 99,
      "outputs": []
    },
    {
      "cell_type": "code",
      "source": [
        "M3"
      ],
      "metadata": {
        "colab": {
          "base_uri": "https://localhost:8080/"
        },
        "id": "6FIn2txCcCKD",
        "outputId": "374cb963-6383-47c4-8a01-866f820199c2"
      },
      "execution_count": 90,
      "outputs": [
        {
          "output_type": "execute_result",
          "data": {
            "text/plain": [
              "array([0, 0, 0, 1, 1, 1, 1, 1, 1, 1, 0, 1, 1, 1, 0, 1, 1, 1, 1, 0, 0, 0,\n",
              "       0, 1, 0, 0, 1, 0, 1, 1, 0, 1, 0, 0, 1, 0, 0, 1, 0, 0, 0, 1, 0, 1,\n",
              "       1, 1, 0, 1, 1, 1, 1, 1, 1, 0, 1, 0, 1, 1, 1, 1, 0, 1, 1, 1, 0, 0,\n",
              "       0, 1, 1, 0, 1, 0, 0, 1, 1, 0, 0, 0, 1, 1, 1, 0, 0, 0, 1, 0, 0, 1,\n",
              "       0, 0, 1, 0, 1, 0, 1, 0, 0, 0, 1, 0])"
            ]
          },
          "metadata": {},
          "execution_count": 90
        }
      ]
    },
    {
      "cell_type": "code",
      "source": [
        "P_equal = len(M3[M3==1])/M3.shape[0]\n",
        "P_equal"
      ],
      "metadata": {
        "id": "DeBWY-yYfsLD",
        "colab": {
          "base_uri": "https://localhost:8080/"
        },
        "outputId": "6f7abce0-7694-43d0-9e62-ea6e93cb2df7"
      },
      "execution_count": 100,
      "outputs": [
        {
          "output_type": "execute_result",
          "data": {
            "text/plain": [
              "0.5016"
            ]
          },
          "metadata": {},
          "execution_count": 100
        }
      ]
    },
    {
      "cell_type": "markdown",
      "metadata": {
        "id": "t0XOMos2Tl0e"
      },
      "source": [
        "### Задача 2\n",
        "Брошено три монеты. Описать множество всех элементарных событий. Найти вероятности следующих событий:\n",
        "\n",
        "\n",
        "1.   A = {не выпало ни одного герба}\n",
        "2.   B = {выпало четное число гербов}\n",
        "3.   C = {на третьей монете выпал герб}\n"
      ]
    },
    {
      "cell_type": "markdown",
      "source": [
        "1.   A = {не выпало ни одного герба}. 1 - герб(орел), 0 - цифра(решка)"
      ],
      "metadata": {
        "id": "bnXHUretj60F"
      }
    },
    {
      "cell_type": "code",
      "source": [
        "N = 10000 # число испытаний"
      ],
      "metadata": {
        "id": "KIvgO88zjWHv"
      },
      "execution_count": null,
      "outputs": []
    },
    {
      "cell_type": "code",
      "source": [
        "binomial_rv = sts.binom(1, 0.5)\n",
        "\n",
        "M1 = binomial_rv.rvs(N)\n",
        "M2 = binomial_rv.rvs(N)\n",
        "M3 = binomial_rv.rvs(N)"
      ],
      "metadata": {
        "id": "cvC8uAaUhrHT"
      },
      "execution_count": null,
      "outputs": []
    },
    {
      "cell_type": "code",
      "source": [
        "M4 = np.arange(N)\n",
        "for i in range(N):\n",
        "  if M1[i] + M2[i] + M3[i] == 0:\n",
        "    M4[i] = 0\n",
        "  else: M4[i] = 1\n",
        "P_zero0 = len(M4[M4==0])/M4.shape[0]\n",
        "P_zero0"
      ],
      "metadata": {
        "colab": {
          "base_uri": "https://localhost:8080/"
        },
        "id": "Ukv2rzygh4Kr",
        "outputId": "fca9587d-5112-4d8e-af69-710b7072208a"
      },
      "execution_count": null,
      "outputs": [
        {
          "output_type": "execute_result",
          "data": {
            "text/plain": [
              "0.1234"
            ]
          },
          "metadata": {},
          "execution_count": 51
        }
      ]
    },
    {
      "cell_type": "markdown",
      "source": [
        "Теоретическая проверка"
      ],
      "metadata": {
        "id": "B6dP9zLxj9Uz"
      }
    },
    {
      "cell_type": "code",
      "source": [
        "sts.binom.pmf(0, 3, 0.5)"
      ],
      "metadata": {
        "colab": {
          "base_uri": "https://localhost:8080/"
        },
        "id": "QNT9Kbz7vzAp",
        "outputId": "2f6fc818-b768-4a18-c0cc-b689b33c45f7"
      },
      "execution_count": null,
      "outputs": [
        {
          "output_type": "execute_result",
          "data": {
            "text/plain": [
              "0.125"
            ]
          },
          "metadata": {},
          "execution_count": 48
        }
      ]
    },
    {
      "cell_type": "markdown",
      "source": [
        "2.   B = {выпало четное число гербов}"
      ],
      "metadata": {
        "id": "3fuUMSbtkBRb"
      }
    },
    {
      "cell_type": "code",
      "source": [
        "M5 = np.arange(N)\n",
        "for i in range(N):\n",
        "  if M1[i] + M2[i] + M3[i] == 2:\n",
        "    M5[i] = 1\n",
        "  else: M5[i] = 0\n",
        "P_even1 = len(M5[M5==1])/M5.shape[0]\n",
        "P_even1"
      ],
      "metadata": {
        "colab": {
          "base_uri": "https://localhost:8080/"
        },
        "id": "ej9VBvqnkIcS",
        "outputId": "300ebe3a-a63b-43e9-d5f0-41b8cf8685a8"
      },
      "execution_count": null,
      "outputs": [
        {
          "output_type": "execute_result",
          "data": {
            "text/plain": [
              "0.3846"
            ]
          },
          "metadata": {},
          "execution_count": 52
        }
      ]
    },
    {
      "cell_type": "markdown",
      "source": [
        "Теоретическая проверка"
      ],
      "metadata": {
        "id": "o8nYZDLQlB_L"
      }
    },
    {
      "cell_type": "code",
      "source": [
        "sts.binom.pmf(2, 3, 0.5)"
      ],
      "metadata": {
        "colab": {
          "base_uri": "https://localhost:8080/"
        },
        "id": "MSEjj_1bvz7u",
        "outputId": "fa2a03a4-c6fd-4676-b087-7de2acf4ea4c"
      },
      "execution_count": null,
      "outputs": [
        {
          "output_type": "execute_result",
          "data": {
            "text/plain": [
              "0.3750000000000001"
            ]
          },
          "metadata": {},
          "execution_count": 53
        }
      ]
    },
    {
      "cell_type": "markdown",
      "source": [
        "3.   C = {на третьей монете выпал герб}"
      ],
      "metadata": {
        "id": "URBlJ2UKln-p"
      }
    },
    {
      "cell_type": "code",
      "source": [
        "P_3_1 = len(M3[M3==1])/M3.shape[0]\n",
        "P_3_1"
      ],
      "metadata": {
        "colab": {
          "base_uri": "https://localhost:8080/"
        },
        "id": "asE5HfjrlHKy",
        "outputId": "37727779-c9d8-4469-aa75-bdaa35627160"
      },
      "execution_count": null,
      "outputs": [
        {
          "output_type": "execute_result",
          "data": {
            "text/plain": [
              "0.5041"
            ]
          },
          "metadata": {},
          "execution_count": 54
        }
      ]
    },
    {
      "cell_type": "markdown",
      "source": [
        "Теоретическая проверка"
      ],
      "metadata": {
        "id": "pB3KUfbnmDTT"
      }
    },
    {
      "cell_type": "code",
      "source": [
        "sts.binom.pmf(1, 1, 0.5)"
      ],
      "metadata": {
        "colab": {
          "base_uri": "https://localhost:8080/"
        },
        "id": "TaKkQY6O7nzq",
        "outputId": "d8c993a8-5a18-4d32-aaff-ff6539009f09"
      },
      "execution_count": null,
      "outputs": [
        {
          "output_type": "execute_result",
          "data": {
            "text/plain": [
              "0.5"
            ]
          },
          "metadata": {},
          "execution_count": 55
        }
      ]
    },
    {
      "cell_type": "markdown",
      "metadata": {
        "id": "wyEMSPekeHJ8"
      },
      "source": [
        "Предлагается также решить задачи: \n",
        "\n",
        "### Задача 3\n",
        "Из двух претендентов E и L на ответственную должность три члена комиссии должны отобрать одного. Каждый член комиссии должен указать либо одного достойного, либо забраковать обоих. Претендент считается выбранным, если он был признана достойным хотя бы двумя членами комиссии.\n",
        "Найти вероятность событий:\n",
        "\n",
        "A = {рекомендован L}, B = {рекомендован E}\n"
      ]
    },
    {
      "cell_type": "markdown",
      "source": [
        "У каждого члена комиссии 3 варианта ответа.\n",
        "Пусть 0 - забраковал обоих, 1 - выбран L, 2 - выбран E\n",
        "\n",
        "Вероятность каждого решения - 1/3."
      ],
      "metadata": {
        "id": "Nk2092bRnH82"
      }
    },
    {
      "cell_type": "code",
      "source": [
        "N = 100000 # число испытаний"
      ],
      "metadata": {
        "id": "4DRV8P-xprME"
      },
      "execution_count": 39,
      "outputs": []
    },
    {
      "cell_type": "code",
      "source": [
        "A = np.random.choice(range(0,3), N)\n",
        "B = np.random.choice(range(0,3), N)\n",
        "C = np.random.choice(range(0,3), N)\n",
        "print(f'\"A=\"{A}')\n",
        "print(f'\"B=\"{B}')\n",
        "print(f'\"C=\"{C}')"
      ],
      "metadata": {
        "colab": {
          "base_uri": "https://localhost:8080/"
        },
        "id": "64v7QdvtrGTq",
        "outputId": "678c12b0-bfff-4578-e1b7-b8a12146aa0f"
      },
      "execution_count": 40,
      "outputs": [
        {
          "output_type": "stream",
          "name": "stdout",
          "text": [
            "\"A=\"[0 2 2 ... 0 0 2]\n",
            "\"B=\"[1 0 2 ... 1 0 2]\n",
            "\"C=\"[0 1 0 ... 2 2 2]\n"
          ]
        }
      ]
    },
    {
      "cell_type": "code",
      "source": [
        "D = np.arange(N)\n",
        "for i in range(N):\n",
        "  if B[i] == C[i]:\n",
        "     D[i] = B[i]\n",
        "  else:\n",
        "    if A[i] == 1 and (B[i] == 1 or C[i] == 1):\n",
        "       D[i] = 1\n",
        "    elif A[i] == 2 and (B[i] == 2 or C[i] == 2):\n",
        "       D[i] = 2\n",
        "    else: D[i] = 0"
      ],
      "metadata": {
        "id": "0ch84ciE3oB3"
      },
      "execution_count": 49,
      "outputs": []
    },
    {
      "cell_type": "code",
      "source": [
        "D"
      ],
      "metadata": {
        "colab": {
          "base_uri": "https://localhost:8080/"
        },
        "id": "cGBOigZhoZhS",
        "outputId": "501a2102-c87d-46e4-e7d2-2bb5ec2ce8f9"
      },
      "execution_count": 50,
      "outputs": [
        {
          "output_type": "execute_result",
          "data": {
            "text/plain": [
              "array([0, 0, 2, ..., 0, 0, 2])"
            ]
          },
          "metadata": {},
          "execution_count": 50
        }
      ]
    },
    {
      "cell_type": "code",
      "source": [
        "P_L = len(D[D==1])/D.shape[0]\n",
        "P_L"
      ],
      "metadata": {
        "colab": {
          "base_uri": "https://localhost:8080/"
        },
        "id": "f_8mMucq5Oau",
        "outputId": "8386a259-ded7-4a6f-c347-c9325b92df09"
      },
      "execution_count": 51,
      "outputs": [
        {
          "output_type": "execute_result",
          "data": {
            "text/plain": [
              "0.25896"
            ]
          },
          "metadata": {},
          "execution_count": 51
        }
      ]
    },
    {
      "cell_type": "code",
      "source": [
        "P_E = len(D[D==2])/D.shape[0]\n",
        "P_E"
      ],
      "metadata": {
        "colab": {
          "base_uri": "https://localhost:8080/"
        },
        "outputId": "afb0178c-8861-40ea-ad9c-c35074dbc920",
        "id": "c7a5X99povEv"
      },
      "execution_count": 52,
      "outputs": [
        {
          "output_type": "execute_result",
          "data": {
            "text/plain": [
              "0.2587"
            ]
          },
          "metadata": {},
          "execution_count": 52
        }
      ]
    },
    {
      "cell_type": "code",
      "execution_count": 20,
      "metadata": {
        "colab": {
          "base_uri": "https://localhost:8080/"
        },
        "id": "LiB3XazXeHJ9",
        "outputId": "353ee84f-8cec-4795-b264-608acd928ec0"
      },
      "outputs": [
        {
          "output_type": "execute_result",
          "data": {
            "text/plain": [
              "0.22222222222222218"
            ]
          },
          "metadata": {},
          "execution_count": 20
        }
      ],
      "source": [
        "sts.binom.pmf(2, 3, 1/3)"
      ]
    },
    {
      "cell_type": "markdown",
      "metadata": {
        "id": "peM38mVfYa5B"
      },
      "source": [
        "### Задача 4\n",
        "Брошено две игральных кости. Описать множество элементарных событий. Найти вероятности событий:\n",
        "\n",
        "A = {вышло две \"шестерки\"}\n",
        "\n",
        "B = {сумма выпавших очков не меньше 11}\n",
        "\n",
        "C = {не выпала ни одна \"шестерка\"}"
      ]
    },
    {
      "cell_type": "code",
      "source": [
        "N = 100000 # число испытаний\n",
        "A = np.random.choice(range(1,7), N)\n",
        "B = np.random.choice(range(1,7), N)"
      ],
      "metadata": {
        "id": "xi25zGpmbzjp"
      },
      "execution_count": 104,
      "outputs": []
    },
    {
      "cell_type": "code",
      "source": [
        "A"
      ],
      "metadata": {
        "colab": {
          "base_uri": "https://localhost:8080/"
        },
        "id": "YOFRCG3EcH09",
        "outputId": "5a5b49ef-cd58-46ee-b4de-523960af3b98"
      },
      "execution_count": 71,
      "outputs": [
        {
          "output_type": "execute_result",
          "data": {
            "text/plain": [
              "array([1, 3, 5, ..., 4, 6, 2])"
            ]
          },
          "metadata": {},
          "execution_count": 71
        }
      ]
    },
    {
      "cell_type": "code",
      "source": [
        "B"
      ],
      "metadata": {
        "colab": {
          "base_uri": "https://localhost:8080/"
        },
        "id": "B5dyL0UCbTnE",
        "outputId": "da1034b5-ea5f-4735-c15c-1468d4b26903"
      },
      "execution_count": 72,
      "outputs": [
        {
          "output_type": "execute_result",
          "data": {
            "text/plain": [
              "array([1, 4, 6, ..., 5, 4, 6])"
            ]
          },
          "metadata": {},
          "execution_count": 72
        }
      ]
    },
    {
      "cell_type": "code",
      "source": [
        "C=A+B"
      ],
      "metadata": {
        "id": "xNTgy9m1cfRW"
      },
      "execution_count": 79,
      "outputs": []
    },
    {
      "cell_type": "code",
      "source": [
        "C"
      ],
      "metadata": {
        "colab": {
          "base_uri": "https://localhost:8080/"
        },
        "id": "O3l-dQy2cqst",
        "outputId": "681cd4de-9862-436d-9707-34e7d003dfe6"
      },
      "execution_count": 80,
      "outputs": [
        {
          "output_type": "execute_result",
          "data": {
            "text/plain": [
              "array([ 2,  7, 11, ...,  9, 10,  8])"
            ]
          },
          "metadata": {},
          "execution_count": 80
        }
      ]
    },
    {
      "cell_type": "code",
      "source": [
        "P_2_6 = len(C[C==12])/C.shape[0]\n",
        "P_2_6"
      ],
      "metadata": {
        "id": "pV4EMLUUct3L",
        "colab": {
          "base_uri": "https://localhost:8080/"
        },
        "outputId": "708615c8-9000-4d5f-822a-0b84a2e28e5d"
      },
      "execution_count": 75,
      "outputs": [
        {
          "output_type": "execute_result",
          "data": {
            "text/plain": [
              "0.0276"
            ]
          },
          "metadata": {},
          "execution_count": 75
        }
      ]
    },
    {
      "cell_type": "code",
      "source": [
        "D = np.arange(N)\n",
        "for i in range(N):\n",
        "  if A[i] == B[i] == 6:\n",
        "   D[i] = 1\n",
        "  else: D[i] = 0\n",
        "D"
      ],
      "metadata": {
        "colab": {
          "base_uri": "https://localhost:8080/"
        },
        "id": "LquC6FP9sec1",
        "outputId": "3c9648ee-a27a-4ba8-e6d6-f3b468ab73c3"
      },
      "execution_count": 76,
      "outputs": [
        {
          "output_type": "execute_result",
          "data": {
            "text/plain": [
              "array([0, 0, 0, ..., 0, 0, 0])"
            ]
          },
          "metadata": {},
          "execution_count": 76
        }
      ]
    },
    {
      "cell_type": "code",
      "source": [
        "P_2_6 = len(D[D==1])/D.shape[0]\n",
        "P_2_6"
      ],
      "metadata": {
        "colab": {
          "base_uri": "https://localhost:8080/"
        },
        "id": "ZFAoRMMzs12p",
        "outputId": "c7bc7c44-0828-48d9-97f8-276a3dae148e"
      },
      "execution_count": 77,
      "outputs": [
        {
          "output_type": "execute_result",
          "data": {
            "text/plain": [
              "0.0276"
            ]
          },
          "metadata": {},
          "execution_count": 77
        }
      ]
    },
    {
      "cell_type": "markdown",
      "source": [
        "Теоретическое решение. Всего возможных вариантов 6*6=36. Сумма очков от 2 до 12."
      ],
      "metadata": {
        "id": "MkK8rde8f3wD"
      }
    },
    {
      "cell_type": "markdown",
      "source": [
        "\n",
        "\n",
        "\n",
        "\n",
        "A = {вышло две \"шестерки\"}.\n",
        "\n",
        "Вероятность одной \"шестерки\" 1/6. Считаем вероятность попасть 2 раза из 2 попыток\n",
        "\n",
        "Второй способ - вероятность 2х шестерок 1/36"
      ],
      "metadata": {
        "id": "eVxh1z7o_xeN"
      }
    },
    {
      "cell_type": "code",
      "execution_count": null,
      "metadata": {
        "colab": {
          "base_uri": "https://localhost:8080/"
        },
        "id": "AjTktyhkeHKA",
        "outputId": "6cb9eb8e-945c-476b-8f05-1f49dd433df7"
      },
      "outputs": [
        {
          "output_type": "execute_result",
          "data": {
            "text/plain": [
              "0.027777777777777776"
            ]
          },
          "metadata": {},
          "execution_count": 196
        }
      ],
      "source": [
        "sts.binom.pmf(2, 2, 1/6)"
      ]
    },
    {
      "cell_type": "code",
      "source": [
        "1/36"
      ],
      "metadata": {
        "colab": {
          "base_uri": "https://localhost:8080/"
        },
        "id": "mnIkK6grBsH8",
        "outputId": "2fb9521f-7c10-4d48-bcfc-ba15c0c4ac64"
      },
      "execution_count": null,
      "outputs": [
        {
          "output_type": "execute_result",
          "data": {
            "text/plain": [
              "0.027777777777777776"
            ]
          },
          "metadata": {},
          "execution_count": 203
        }
      ]
    },
    {
      "cell_type": "markdown",
      "source": [
        "B = {сумма выпавших очков не меньше 11}\n",
        "\n",
        "Нам нужно набрать 11 или 12. Это возможно только сочетанием 5 и 6. Вероятность выпадения 5 или 6 = 2/6. Считаем вероятность, что два раза из двух выпадет 5 или 6. Но две 5 нас не устраивают, так как 5+5=10 < 11, поэтому вычитаем вероятность их выпадения.\n",
        "\n",
        "Второй способ. Всего вариантов 6*6=36. Нас устраивает 3 случая (6+6, 5+6, 6+5). Итого 3/36"
      ],
      "metadata": {
        "id": "tiZJqsWZ_vrb"
      }
    },
    {
      "cell_type": "code",
      "source": [
        "P11 = len(C[C>=11])/C.shape[0]\n",
        "P11"
      ],
      "metadata": {
        "colab": {
          "base_uri": "https://localhost:8080/"
        },
        "id": "WsrXWJxKtqF9",
        "outputId": "f113311b-3853-46e6-f61f-9783e4960720"
      },
      "execution_count": 103,
      "outputs": [
        {
          "output_type": "execute_result",
          "data": {
            "text/plain": [
              "0.08357"
            ]
          },
          "metadata": {},
          "execution_count": 103
        }
      ]
    },
    {
      "cell_type": "markdown",
      "source": [
        "Проверяем теоретически"
      ],
      "metadata": {
        "id": "dSAVrzw0uNMe"
      }
    },
    {
      "cell_type": "code",
      "source": [
        "sts.binom.pmf(2, 2, 2/6) - sts.binom.pmf(2, 2, 1/6)"
      ],
      "metadata": {
        "colab": {
          "base_uri": "https://localhost:8080/"
        },
        "id": "-BBERve_-W6i",
        "outputId": "c4d51ff7-467f-457f-851a-754b66001a08"
      },
      "execution_count": null,
      "outputs": [
        {
          "output_type": "execute_result",
          "data": {
            "text/plain": [
              "0.08333333333333333"
            ]
          },
          "metadata": {},
          "execution_count": 201
        }
      ]
    },
    {
      "cell_type": "code",
      "source": [
        "3/36"
      ],
      "metadata": {
        "colab": {
          "base_uri": "https://localhost:8080/"
        },
        "id": "alzIyssMCJeA",
        "outputId": "8b6b2de9-c23d-4b30-aa52-75f2dced7cc9"
      },
      "execution_count": null,
      "outputs": [
        {
          "output_type": "execute_result",
          "data": {
            "text/plain": [
              "0.08333333333333333"
            ]
          },
          "metadata": {},
          "execution_count": 204
        }
      ]
    },
    {
      "cell_type": "markdown",
      "source": [
        "C = {не выпала ни одна \"шестерка\"}\n",
        "\n",
        "Вероятность одной \"шестерки\" 1/6. Считаем вероятность попасть 0 раз из 2 попыток\n",
        "\n",
        "Второй способ - всего возможных вариантов 6*6=36. Нас не устроит по 6 сочетаний с 6 на одном кубике и 5 на другом, так как 66 уже учтен, итого 11 вариантов. (36-11)/36 = 25/36"
      ],
      "metadata": {
        "id": "Ac3QtP5GCVXU"
      }
    },
    {
      "cell_type": "code",
      "source": [
        "E = np.arange(N)\n",
        "for i in range(N):\n",
        "  if A[i] != B[i] != 6:\n",
        "   E[i] = 1\n",
        "  else: E[i] = 0\n",
        "E"
      ],
      "metadata": {
        "colab": {
          "base_uri": "https://localhost:8080/"
        },
        "id": "xZKtaijyuQz9",
        "outputId": "4ce15a4e-485d-45e9-a87b-c767c49cf9bc"
      },
      "execution_count": 85,
      "outputs": [
        {
          "output_type": "execute_result",
          "data": {
            "text/plain": [
              "array([0, 1, 0, ..., 1, 1, 0])"
            ]
          },
          "metadata": {},
          "execution_count": 85
        }
      ]
    },
    {
      "cell_type": "code",
      "source": [
        "P_0_6 = len(E[E==1])/E.shape[0]\n",
        "P_0_6"
      ],
      "metadata": {
        "colab": {
          "base_uri": "https://localhost:8080/"
        },
        "id": "63MakD0lusdm",
        "outputId": "76e95c99-86f4-4d33-c14c-3652f8542d10"
      },
      "execution_count": 86,
      "outputs": [
        {
          "output_type": "execute_result",
          "data": {
            "text/plain": [
              "0.69396"
            ]
          },
          "metadata": {},
          "execution_count": 86
        }
      ]
    },
    {
      "cell_type": "markdown",
      "source": [
        "Теоретическая проверка"
      ],
      "metadata": {
        "id": "n4v3Lrnfu5EV"
      }
    },
    {
      "cell_type": "code",
      "source": [
        "sts.binom.pmf(0, 2, 1/6)"
      ],
      "metadata": {
        "colab": {
          "base_uri": "https://localhost:8080/"
        },
        "id": "MARiBKoJ-uMc",
        "outputId": "7be40f72-bdd7-4b61-851d-8e371a3699b0"
      },
      "execution_count": null,
      "outputs": [
        {
          "output_type": "execute_result",
          "data": {
            "text/plain": [
              "0.6944444444444445"
            ]
          },
          "metadata": {},
          "execution_count": 197
        }
      ]
    },
    {
      "cell_type": "code",
      "source": [
        "25/36"
      ],
      "metadata": {
        "colab": {
          "base_uri": "https://localhost:8080/"
        },
        "id": "UKPNXsQCDg7h",
        "outputId": "30dc6ea2-9649-42ac-b27d-576d710a4c49"
      },
      "execution_count": null,
      "outputs": [
        {
          "output_type": "execute_result",
          "data": {
            "text/plain": [
              "0.6944444444444444"
            ]
          },
          "metadata": {},
          "execution_count": 205
        }
      ]
    },
    {
      "cell_type": "markdown",
      "metadata": {
        "id": "f-Bi0p8haclB"
      },
      "source": [
        "## Вероятность суммы событий"
      ]
    },
    {
      "cell_type": "markdown",
      "metadata": {
        "id": "g7A7QlvGTnwZ"
      },
      "source": [
        "### Задача 5\n",
        "Брошены две игральные кости. Найти вероятность события D = {выпала хотя бы одна шестёрка}\n"
      ]
    },
    {
      "cell_type": "code",
      "source": [
        "N = 100000 # число испытаний\n",
        "A = np.random.choice(range(1,7), N)\n",
        "B = np.random.choice(range(1,7), N)"
      ],
      "metadata": {
        "id": "4_kr9TQWwPt0"
      },
      "execution_count": 105,
      "outputs": []
    },
    {
      "cell_type": "code",
      "source": [
        "F = np.arange(N)\n",
        "for i in range(N):\n",
        "  if A[i] == 6 or B[i] == 6:\n",
        "   F[i] = 1\n",
        "  else: F[i] = 0\n",
        "F"
      ],
      "metadata": {
        "colab": {
          "base_uri": "https://localhost:8080/"
        },
        "id": "1EIlNtyAwRh5",
        "outputId": "7afbaa3b-93ae-40bb-8e75-afc1c37c6d08"
      },
      "execution_count": 110,
      "outputs": [
        {
          "output_type": "execute_result",
          "data": {
            "text/plain": [
              "array([0, 0, 0, ..., 1, 0, 1])"
            ]
          },
          "metadata": {},
          "execution_count": 110
        }
      ]
    },
    {
      "cell_type": "code",
      "source": [
        "P_6 = len(F[F==1])/F.shape[0]\n",
        "P_6"
      ],
      "metadata": {
        "colab": {
          "base_uri": "https://localhost:8080/"
        },
        "id": "J3zyQSASvAsr",
        "outputId": "8d77c305-0449-4e0d-92d7-edbe54b4169a"
      },
      "execution_count": 111,
      "outputs": [
        {
          "output_type": "execute_result",
          "data": {
            "text/plain": [
              "0.30552"
            ]
          },
          "metadata": {},
          "execution_count": 111
        }
      ]
    },
    {
      "cell_type": "markdown",
      "source": [
        "Складываем вероятности выпадения 1 шестерки и 2 шестерок"
      ],
      "metadata": {
        "id": "fsivKw8mEVPy"
      }
    },
    {
      "cell_type": "code",
      "execution_count": null,
      "metadata": {
        "id": "vjtTJN-kUp9D",
        "colab": {
          "base_uri": "https://localhost:8080/"
        },
        "outputId": "0a0a4e90-f6d7-4b36-c232-ae0ec3dde6fd"
      },
      "outputs": [
        {
          "output_type": "execute_result",
          "data": {
            "text/plain": [
              "0.3055555555555555"
            ]
          },
          "metadata": {},
          "execution_count": 207
        }
      ],
      "source": [
        "sts.binom.pmf(1, 2, 1/6) + sts.binom.pmf(2, 2, 1/6)"
      ]
    },
    {
      "cell_type": "markdown",
      "metadata": {
        "id": "R1bYSzQQbC6I"
      },
      "source": [
        "Предлагается также решить задачи: \n",
        "\n",
        "### Задача 6\n",
        "В телефонном номере три последние цифры стерлись. Считая, что все возможные значения стершихся цифр равновероятны, найти вероятность событий:\n",
        "\n",
        "A = {Стерлись различные цифры},\n",
        "\n",
        "B = {Стерлись одинаковые цифры},\n",
        "\n",
        "C = {Среди стершихся цифр хотя бы две совпадают},\n",
        "\n",
        "D = {Среди стершихся цифр хотя бы две различны}\n"
      ]
    },
    {
      "cell_type": "markdown",
      "source": [
        "A1 - последняя цифра\n",
        "A2 - предпоследняя цифра\n",
        "A3 - третья цифра с конца"
      ],
      "metadata": {
        "id": "Fpyo5cCvxEXn"
      }
    },
    {
      "cell_type": "code",
      "source": [
        "N = 100000 # число испытаний\n",
        "A1 = np.random.choice(range(0,10), N)\n",
        "A2 = np.random.choice(range(0,10), N)\n",
        "A3 = np.random.choice(range(0,10), N)\n"
      ],
      "metadata": {
        "id": "JZa04pQjxE7v"
      },
      "execution_count": 136,
      "outputs": []
    },
    {
      "cell_type": "markdown",
      "source": [
        "A = {Стерлись различные цифры}"
      ],
      "metadata": {
        "id": "VYAH653i1gme"
      }
    },
    {
      "cell_type": "code",
      "source": [
        "m = 0\n",
        "for i in range(N):\n",
        "  if A1[i] != A2[i] != A3[i]:\n",
        "   m+=1\n",
        "m/N"
      ],
      "metadata": {
        "colab": {
          "base_uri": "https://localhost:8080/"
        },
        "id": "1HlMV8y4xwrf",
        "outputId": "95dc0085-19ff-4aae-f202-53c0ff993298"
      },
      "execution_count": 147,
      "outputs": [
        {
          "output_type": "execute_result",
          "data": {
            "text/plain": [
              "0.81143"
            ]
          },
          "metadata": {},
          "execution_count": 147
        }
      ]
    },
    {
      "cell_type": "markdown",
      "source": [
        "Теоретическая проверка\n",
        "\n",
        "Вероятность каждой цифры 1/10.\n",
        "Какая-то 1 цифра (любая) уже есть, нужно понять, с какой вероятностью 2 остальные цифры с ней не совпадут."
      ],
      "metadata": {
        "id": "udDyhC10EsdK"
      }
    },
    {
      "cell_type": "code",
      "source": [
        "sts.binom.pmf(0, 2, 1/10)"
      ],
      "metadata": {
        "colab": {
          "base_uri": "https://localhost:8080/"
        },
        "id": "1n8sa2XCFLn_",
        "outputId": "ea458a08-4254-4922-eac4-f3ac1e0a4d93"
      },
      "execution_count": 146,
      "outputs": [
        {
          "output_type": "execute_result",
          "data": {
            "text/plain": [
              "0.81"
            ]
          },
          "metadata": {},
          "execution_count": 146
        }
      ]
    },
    {
      "cell_type": "markdown",
      "source": [
        "B = {Стерлись одинаковые цифры}\n",
        "\n",
        "Вероятность, что обе цифры совпадут с первой"
      ],
      "metadata": {
        "id": "9vY_FDrMGUmR"
      }
    },
    {
      "cell_type": "code",
      "source": [
        "m = 0\n",
        "for i in range(N):\n",
        "  if A1[i] == A2[i] == A3[i]:\n",
        "   m+=1\n",
        "m/N"
      ],
      "metadata": {
        "colab": {
          "base_uri": "https://localhost:8080/"
        },
        "id": "8MPOVIiryo4o",
        "outputId": "48ba3ffa-1c94-4844-fd52-e663eb5f4b9b"
      },
      "execution_count": 148,
      "outputs": [
        {
          "output_type": "execute_result",
          "data": {
            "text/plain": [
              "0.01014"
            ]
          },
          "metadata": {},
          "execution_count": 148
        }
      ]
    },
    {
      "cell_type": "markdown",
      "source": [
        "Теоретическая проверка"
      ],
      "metadata": {
        "id": "JFwo29mey3cZ"
      }
    },
    {
      "cell_type": "code",
      "execution_count": 149,
      "metadata": {
        "colab": {
          "base_uri": "https://localhost:8080/"
        },
        "id": "6pcRmKbGeHKE",
        "outputId": "c737461b-337d-42c8-a64f-6b8b0b1dcf38"
      },
      "outputs": [
        {
          "output_type": "execute_result",
          "data": {
            "text/plain": [
              "0.010000000000000002"
            ]
          },
          "metadata": {},
          "execution_count": 149
        }
      ],
      "source": [
        "sts.binom.pmf(2, 2, 1/10)"
      ]
    },
    {
      "cell_type": "markdown",
      "source": [
        "C = {Среди стершихся цифр хотя бы две совпадают},\n",
        "\n"
      ],
      "metadata": {
        "id": "fSVKJRr5Gh5M"
      }
    },
    {
      "cell_type": "code",
      "source": [
        "m = 0\n",
        "for i in range(N):\n",
        "  if (A1[i] == A2[i]) or (A2[i] == A3[i]) or (A1[i] == A3[i]):\n",
        "   m+=1\n",
        "m/N"
      ],
      "metadata": {
        "colab": {
          "base_uri": "https://localhost:8080/"
        },
        "id": "ARHVtU88zLF6",
        "outputId": "f2b521dd-9b5f-4954-ea49-1134532c9a5f"
      },
      "execution_count": 162,
      "outputs": [
        {
          "output_type": "execute_result",
          "data": {
            "text/plain": [
              "0.27785"
            ]
          },
          "metadata": {},
          "execution_count": 162
        }
      ]
    },
    {
      "cell_type": "markdown",
      "source": [
        "D = {Среди стершихся цифр хотя бы две различны}"
      ],
      "metadata": {
        "id": "qzDja-MKGuOA"
      }
    },
    {
      "cell_type": "code",
      "source": [
        "m = 0\n",
        "for i in range(N):\n",
        "  if (A1[i] != A2[i]) or (A2[i] != A3[i]) or (A1[i] != A3[i]):\n",
        "   m+=1\n",
        "m/N"
      ],
      "metadata": {
        "colab": {
          "base_uri": "https://localhost:8080/"
        },
        "id": "VlNu-6OG3jqp",
        "outputId": "10f68137-c7f5-47fa-a751-1ce4526d0101"
      },
      "execution_count": 167,
      "outputs": [
        {
          "output_type": "execute_result",
          "data": {
            "text/plain": [
              "0.98986"
            ]
          },
          "metadata": {},
          "execution_count": 167
        }
      ]
    },
    {
      "cell_type": "markdown",
      "source": [
        "Теоретическая проверка\n",
        "\n",
        "1. Сумма двух совпавших и всех несовпавших\n",
        "2. Из 1 вычесть вероятность совпадения всех 3"
      ],
      "metadata": {
        "id": "UQWM_uxo3rVT"
      }
    },
    {
      "cell_type": "code",
      "source": [
        "sts.binom.pmf(0, 2, 1/10) + sts.binom.pmf(1, 2, 1/10)"
      ],
      "metadata": {
        "colab": {
          "base_uri": "https://localhost:8080/"
        },
        "id": "_oHlTK_uHEED",
        "outputId": "9bf76faf-ff5e-4eaa-a1a0-36ea868b61d7"
      },
      "execution_count": null,
      "outputs": [
        {
          "output_type": "execute_result",
          "data": {
            "text/plain": [
              "0.9900000000000001"
            ]
          },
          "metadata": {},
          "execution_count": 217
        }
      ]
    },
    {
      "cell_type": "code",
      "source": [
        "1 - sts.binom.pmf(2, 2, 1/10)"
      ],
      "metadata": {
        "colab": {
          "base_uri": "https://localhost:8080/"
        },
        "id": "fcmngmRuHZEp",
        "outputId": "e25f1274-2666-4a78-e8cf-5562ff757300"
      },
      "execution_count": null,
      "outputs": [
        {
          "output_type": "execute_result",
          "data": {
            "text/plain": [
              "0.99"
            ]
          },
          "metadata": {},
          "execution_count": 218
        }
      ]
    },
    {
      "cell_type": "markdown",
      "metadata": {
        "id": "RnugkR8BalK_"
      },
      "source": [
        "## Случайные величины"
      ]
    },
    {
      "cell_type": "markdown",
      "metadata": {
        "id": "yLoZDZ17UVsp"
      },
      "source": [
        "### Задача 7\n",
        "В лотерее имеется 10 билетов, из которых один выигрышный. Размер выигрыша 10 ден. ед.; стоимость билета 1 ден ед. Найти закон распределения случайной величины X, равной чистому выигрышу участника лотереи, который вытаскивает билет первым."
      ]
    },
    {
      "cell_type": "markdown",
      "source": [
        "Чистый выигрыш = Выигрыш*его вероятность - Стоимость билета"
      ],
      "metadata": {
        "id": "sDwUL50ULkqq"
      }
    },
    {
      "cell_type": "markdown",
      "source": [
        "Чистый выигрыш равен (-1 до 9)"
      ],
      "metadata": {
        "id": "AnOWqmRb_Tpn"
      }
    },
    {
      "cell_type": "code",
      "source": [
        "x = [-1,9] # значения чистого выигрыша"
      ],
      "metadata": {
        "id": "l9QSUndWBOqd"
      },
      "execution_count": 191,
      "outputs": []
    },
    {
      "cell_type": "code",
      "source": [
        "y = [9/10, 1/10] # соответствующие вероятности"
      ],
      "metadata": {
        "id": "neSvRM4sBWH0"
      },
      "execution_count": 192,
      "outputs": []
    },
    {
      "cell_type": "code",
      "source": [
        "plt.bar(x,y)\n",
        "plt.xlabel(\"Чистый выигрыш\")\n",
        "plt.ylabel(\"Вероятность\")\n",
        "plt.title(\"Закон распределения случайной величины X\")\n",
        "plt.show()"
      ],
      "metadata": {
        "colab": {
          "base_uri": "https://localhost:8080/",
          "height": 472
        },
        "id": "Onorl5LR5JzJ",
        "outputId": "a0512fec-595a-41c5-856e-d31a18c34ec1"
      },
      "execution_count": 193,
      "outputs": [
        {
          "output_type": "display_data",
          "data": {
            "text/plain": [
              "<Figure size 640x480 with 1 Axes>"
            ],
            "image/png": "[encoded data removed]"
          },
          "metadata": {}
        }
      ]
    },
    {
      "cell_type": "markdown",
      "metadata": {
        "id": "U-NK9liSbpvb"
      },
      "source": [
        "Предлагается также решить задачу: \n",
        "\n",
        "### Задача 8\n",
        "Брошены две игральные кости. Найти закон распределения случайной величины $X$, равной сумме выпавших очков. Найти вероятности событий ${X <= 4}$, ${X > 4}$"
      ]
    },
    {
      "cell_type": "code",
      "source": [
        "x = np.arange(2,13) #возможные значения Х"
      ],
      "metadata": {
        "id": "bjkvh35qFlLX"
      },
      "execution_count": 208,
      "outputs": []
    },
    {
      "cell_type": "code",
      "source": [
        "pmf = np.array([1,2,3,4,5,6,5,4,3,2,1])/36"
      ],
      "metadata": {
        "id": "rxI2QJr-GnUt"
      },
      "execution_count": 209,
      "outputs": []
    },
    {
      "cell_type": "code",
      "source": [
        "pmf"
      ],
      "metadata": {
        "colab": {
          "base_uri": "https://localhost:8080/"
        },
        "id": "4bDin_QDG5g_",
        "outputId": "e4c58f88-3aff-437b-a93e-8d9f035eb05b"
      },
      "execution_count": 210,
      "outputs": [
        {
          "output_type": "execute_result",
          "data": {
            "text/plain": [
              "array([0.02777778, 0.05555556, 0.08333333, 0.11111111, 0.13888889,\n",
              "       0.16666667, 0.13888889, 0.11111111, 0.08333333, 0.05555556,\n",
              "       0.02777778])"
            ]
          },
          "metadata": {},
          "execution_count": 210
        }
      ]
    },
    {
      "cell_type": "code",
      "source": [
        "plt.bar(x,pmf)\n",
        "plt.xlabel(\"Сумма очков\")\n",
        "plt.ylabel(\"Вероятность\")\n",
        "plt.title(\"Закон распределения случайной величины X\")\n",
        "plt.show()"
      ],
      "metadata": {
        "colab": {
          "base_uri": "https://localhost:8080/",
          "height": 472
        },
        "id": "Efdes69rG-Ny",
        "outputId": "aaa3a786-55fd-4b83-cac8-4c9e7a0b2b21"
      },
      "execution_count": 213,
      "outputs": [
        {
          "output_type": "display_data",
          "data": {
            "text/plain": [
              "<Figure size 640x480 with 1 Axes>"
            ],
            "image/png": "[encoded data removed]"
          },
          "metadata": {}
        }
      ]
    },
    {
      "cell_type": "code",
      "source": [
        "pmf[0:3].sum()"
      ],
      "metadata": {
        "colab": {
          "base_uri": "https://localhost:8080/"
        },
        "id": "ohb6FF9KHsY6",
        "outputId": "445dc455-5e40-4ab4-f7ef-f75ad0d8b9e6"
      },
      "execution_count": 218,
      "outputs": [
        {
          "output_type": "execute_result",
          "data": {
            "text/plain": [
              "0.16666666666666666"
            ]
          },
          "metadata": {},
          "execution_count": 218
        }
      ]
    },
    {
      "cell_type": "code",
      "source": [
        "pmf[3:14].sum()"
      ],
      "metadata": {
        "colab": {
          "base_uri": "https://localhost:8080/"
        },
        "id": "e_MVRmoCIaYF",
        "outputId": "cf8d66ba-dd60-48ea-82ca-4e84edde8ee9"
      },
      "execution_count": 220,
      "outputs": [
        {
          "output_type": "execute_result",
          "data": {
            "text/plain": [
              "0.8333333333333333"
            ]
          },
          "metadata": {},
          "execution_count": 220
        }
      ]
    },
    {
      "cell_type": "code",
      "source": [],
      "metadata": {
        "id": "MvgPsbjmIDQ7"
      },
      "execution_count": null,
      "outputs": []
    },
    {
      "cell_type": "markdown",
      "source": [
        "Всего возможная сумма очков от 2 до 12. Число вариантов 6*6 = 36.\n",
        "\n",
        "Вероятность 2 = 1/36, 3 = 2/36, 4 = 3/36, 5 = 4/36, 6 = 5/36, 7 = 6/36, 8 = 5/36, 9 = 4/36, 10 = 3/36, 11 = 2/36, 12 = 1/36  "
      ],
      "metadata": {
        "id": "vlddf3w6Nah0"
      }
    },
    {
      "cell_type": "markdown",
      "source": [
        "Вероятность X<= 4 = (1+2+3)/36 = 6/36 = 1/6"
      ],
      "metadata": {
        "id": "pMc37ZCOVBlp"
      }
    },
    {
      "cell_type": "markdown",
      "source": [
        "Вероятность X>4 = 1 - Вероятность X<=4 1-1/6 = 5/6"
      ],
      "metadata": {
        "id": "qBu-4lvDVTbA"
      }
    },
    {
      "cell_type": "markdown",
      "source": [],
      "metadata": {
        "id": "GFZ6Gj7FVRpu"
      }
    },
    {
      "cell_type": "markdown",
      "metadata": {
        "id": "shgW4D83awjK"
      },
      "source": [
        "## Условные вероятности"
      ]
    },
    {
      "cell_type": "markdown",
      "metadata": {
        "id": "Fbu1RFZwWZrk"
      },
      "source": [
        "### Задача 9\n",
        "Из колоды (36 карт) вынимают последовательно без возвращения две карты. Найти вероятность того, что первой картой была шестерка, а второй — семерка. Найти условную вероятность того же события при условии, что обе карты бубновой масти.\n"
      ]
    },
    {
      "cell_type": "code",
      "source": [
        "N = 100000 # число испытаний\n",
        "A = np.random.choice(range(1,37), N)\n"
      ],
      "metadata": {
        "id": "LN1BDcdwFRT-"
      },
      "execution_count": 221,
      "outputs": []
    },
    {
      "cell_type": "code",
      "source": [
        "P_6 = len(A[A<=4])/A.shape[0]"
      ],
      "metadata": {
        "id": "qO_fupV8JIMZ"
      },
      "execution_count": 223,
      "outputs": []
    },
    {
      "cell_type": "code",
      "source": [
        "P_6"
      ],
      "metadata": {
        "colab": {
          "base_uri": "https://localhost:8080/"
        },
        "id": "1LTfUZSrKDbG",
        "outputId": "ba459dc6-edb3-41ef-8b37-1b9a9256ec87"
      },
      "execution_count": 225,
      "outputs": [
        {
          "output_type": "execute_result",
          "data": {
            "text/plain": [
              "0.11183"
            ]
          },
          "metadata": {},
          "execution_count": 225
        }
      ]
    },
    {
      "cell_type": "code",
      "source": [
        "B = np.random.choice(range(1,35), N)"
      ],
      "metadata": {
        "id": "xdSH8_9iLdRy"
      },
      "execution_count": 226,
      "outputs": []
    },
    {
      "cell_type": "code",
      "source": [
        "P_7 = len(B[B<=4])/B.shape[0]"
      ],
      "metadata": {
        "id": "_q8aTabqLk87"
      },
      "execution_count": 227,
      "outputs": []
    },
    {
      "cell_type": "code",
      "source": [
        "P_7"
      ],
      "metadata": {
        "colab": {
          "base_uri": "https://localhost:8080/"
        },
        "id": "R0inzr0hLuVm",
        "outputId": "b2189cfd-ef50-4e01-c515-02cf303e4e3a"
      },
      "execution_count": 228,
      "outputs": [
        {
          "output_type": "execute_result",
          "data": {
            "text/plain": [
              "0.11856"
            ]
          },
          "metadata": {},
          "execution_count": 228
        }
      ]
    },
    {
      "cell_type": "code",
      "source": [
        "P_6*P_7"
      ],
      "metadata": {
        "colab": {
          "base_uri": "https://localhost:8080/"
        },
        "id": "MlLeIIGCLxvk",
        "outputId": "221e8913-5158-4b8e-9b6f-7aed2376f652"
      },
      "execution_count": 231,
      "outputs": [
        {
          "output_type": "execute_result",
          "data": {
            "text/plain": [
              "0.013258564799999999"
            ]
          },
          "metadata": {},
          "execution_count": 231
        }
      ]
    },
    {
      "cell_type": "code",
      "source": [
        "P_6B = len(A[A==1])/A.shape[0]"
      ],
      "metadata": {
        "id": "ZYkpqC0ZMY6z"
      },
      "execution_count": 233,
      "outputs": []
    },
    {
      "cell_type": "code",
      "source": [
        "P_6B"
      ],
      "metadata": {
        "colab": {
          "base_uri": "https://localhost:8080/"
        },
        "id": "4J1argxxMlhB",
        "outputId": "3fbc7d5b-d7f2-4db0-b24b-96d85a8c14aa"
      },
      "execution_count": 234,
      "outputs": [
        {
          "output_type": "execute_result",
          "data": {
            "text/plain": [
              "0.02701"
            ]
          },
          "metadata": {},
          "execution_count": 234
        }
      ]
    },
    {
      "cell_type": "code",
      "source": [
        "P_7B = len(B[B==1])/B.shape[0]"
      ],
      "metadata": {
        "id": "0Ba8C8fSMn3H"
      },
      "execution_count": 235,
      "outputs": []
    },
    {
      "cell_type": "code",
      "source": [
        "P_7B"
      ],
      "metadata": {
        "colab": {
          "base_uri": "https://localhost:8080/"
        },
        "id": "SyJ9EU7yL6DL",
        "outputId": "d62bc987-abbf-47cd-bf8e-8338477495e7"
      },
      "execution_count": 236,
      "outputs": [
        {
          "output_type": "execute_result",
          "data": {
            "text/plain": [
              "0.02917"
            ]
          },
          "metadata": {},
          "execution_count": 236
        }
      ]
    },
    {
      "cell_type": "code",
      "source": [
        "P_6B*P_7B"
      ],
      "metadata": {
        "colab": {
          "base_uri": "https://localhost:8080/"
        },
        "id": "TQKIhqtvMyqP",
        "outputId": "c3d82add-b57b-4d06-ace0-475c6bb2a66a"
      },
      "execution_count": 237,
      "outputs": [
        {
          "output_type": "execute_result",
          "data": {
            "text/plain": [
              "0.0007878817000000001"
            ]
          },
          "metadata": {},
          "execution_count": 237
        }
      ]
    },
    {
      "cell_type": "markdown",
      "source": [
        "Нужно сложить вероятность выбора шестерки. Всего 4 шестерки в колоде, поэтому вероятность выбрать шестерку 4/36"
      ],
      "metadata": {
        "id": "tklr30LcbPW6"
      }
    },
    {
      "cell_type": "code",
      "source": [],
      "metadata": {
        "id": "7G9SNHesE-C4"
      },
      "execution_count": null,
      "outputs": []
    },
    {
      "cell_type": "code",
      "execution_count": null,
      "metadata": {
        "id": "037o56awW9-E"
      },
      "outputs": [],
      "source": [
        "Pa = sts.binom.pmf(1, 1, 4/36)"
      ]
    },
    {
      "cell_type": "code",
      "source": [
        "Pa"
      ],
      "metadata": {
        "colab": {
          "base_uri": "https://localhost:8080/"
        },
        "id": "y3FbhX_acMd2",
        "outputId": "c3f4013a-1059-4249-ebb7-9739763e8631"
      },
      "execution_count": null,
      "outputs": [
        {
          "output_type": "execute_result",
          "data": {
            "text/plain": [
              "0.1111111111111111"
            ]
          },
          "metadata": {},
          "execution_count": 26
        }
      ]
    },
    {
      "cell_type": "markdown",
      "source": [
        "В колоде осталось 35 карт и 4 семерки, поэтому вероятность выбрать второй картой 7-ку 4/35"
      ],
      "metadata": {
        "id": "ZZBinzv-bel-"
      }
    },
    {
      "cell_type": "code",
      "source": [
        "Pb = sts.binom.pmf(1, 1, 4/35)"
      ],
      "metadata": {
        "id": "DW1a_vTTbcmO"
      },
      "execution_count": null,
      "outputs": []
    },
    {
      "cell_type": "code",
      "source": [
        "Pb"
      ],
      "metadata": {
        "colab": {
          "base_uri": "https://localhost:8080/"
        },
        "id": "fOsUcCQJcQ9m",
        "outputId": "498fa8ab-fe59-4029-a9f0-f68b08a70faa"
      },
      "execution_count": null,
      "outputs": [
        {
          "output_type": "execute_result",
          "data": {
            "text/plain": [
              "0.11428571428571428"
            ]
          },
          "metadata": {},
          "execution_count": 28
        }
      ]
    },
    {
      "cell_type": "markdown",
      "source": [
        "Вероятность совместного появления двух независимых событий A и B равна произведению вероятностей этих событий: P (AB) = P (A) × P (B)\n",
        "Перемножим эти события"
      ],
      "metadata": {
        "id": "MBloy-gccDsd"
      }
    },
    {
      "cell_type": "code",
      "source": [
        "Вероятность совместного появления двух независимых событий A и B равна произведению вероятностей этих событий: P (AB) = P (A) × P (B)"
      ],
      "metadata": {
        "id": "S9_UANhRbrJ5"
      },
      "execution_count": null,
      "outputs": []
    },
    {
      "cell_type": "code",
      "source": [
        "Pa*Pb"
      ],
      "metadata": {
        "colab": {
          "base_uri": "https://localhost:8080/"
        },
        "id": "h8Ff2-H1cTBP",
        "outputId": "0685095e-b0ae-4908-ab79-168baf7cf5bd"
      },
      "execution_count": null,
      "outputs": [
        {
          "output_type": "execute_result",
          "data": {
            "text/plain": [
              "0.012698412698412697"
            ]
          },
          "metadata": {},
          "execution_count": 29
        }
      ]
    },
    {
      "cell_type": "markdown",
      "source": [
        "Вероятность, что первая 6 бубей 1 из 36:"
      ],
      "metadata": {
        "id": "70fCTANacaZG"
      }
    },
    {
      "cell_type": "code",
      "source": [
        "Pa2 = sts.binom.pmf(1, 1, 1/36)"
      ],
      "metadata": {
        "id": "GfyZYmqPcglv"
      },
      "execution_count": null,
      "outputs": []
    },
    {
      "cell_type": "code",
      "source": [
        "Pa2"
      ],
      "metadata": {
        "colab": {
          "base_uri": "https://localhost:8080/"
        },
        "id": "hv43AgBPcoRO",
        "outputId": "a8956a73-27d6-4db7-c504-734efbe0fac4"
      },
      "execution_count": null,
      "outputs": [
        {
          "output_type": "execute_result",
          "data": {
            "text/plain": [
              "0.027777777777777776"
            ]
          },
          "metadata": {},
          "execution_count": 32
        }
      ]
    },
    {
      "cell_type": "markdown",
      "source": [
        "Вероятность, что вторая 7 бубей 1 из 35:"
      ],
      "metadata": {
        "id": "_JdfKmE6c0Yu"
      }
    },
    {
      "cell_type": "code",
      "source": [
        "Pb2 = sts.binom.pmf(1, 1, 1/35)"
      ],
      "metadata": {
        "id": "ZSJ6SE0tc7Ab"
      },
      "execution_count": null,
      "outputs": []
    },
    {
      "cell_type": "code",
      "source": [
        "Pb2"
      ],
      "metadata": {
        "colab": {
          "base_uri": "https://localhost:8080/"
        },
        "id": "3gkxTLR0c_5J",
        "outputId": "cd2c61d5-bbde-498e-e2fd-75c3159be132"
      },
      "execution_count": null,
      "outputs": [
        {
          "output_type": "execute_result",
          "data": {
            "text/plain": [
              "0.02857142857142857"
            ]
          },
          "metadata": {},
          "execution_count": 35
        }
      ]
    },
    {
      "cell_type": "code",
      "source": [
        "Pa2*Pb2"
      ],
      "metadata": {
        "colab": {
          "base_uri": "https://localhost:8080/"
        },
        "id": "4Co6O7OXdBhf",
        "outputId": "2b2e918f-f91f-490f-d4b0-ed64e2401dd5"
      },
      "execution_count": null,
      "outputs": [
        {
          "output_type": "execute_result",
          "data": {
            "text/plain": [
              "0.0007936507936507935"
            ]
          },
          "metadata": {},
          "execution_count": 36
        }
      ]
    },
    {
      "cell_type": "code",
      "source": [],
      "metadata": {
        "id": "lLAYe-gYLPMb"
      },
      "execution_count": null,
      "outputs": []
    },
    {
      "cell_type": "markdown",
      "metadata": {
        "id": "hNVxtaz5c57b"
      },
      "source": [
        "Предлагается также решить задачу: \n",
        "\n",
        "### Задача 10\n",
        "Из урны, содержащей два белых и три черных шара, последовательно извлекают два шара; вынутые шары не возвращаются. Если первый шар оказался черным, то перед вторым извлечением в урну добавляют белый шар. В противном случае состав оставшихся шаров не меняют. Найти вероятности событий:\n",
        "\n",
        "$A$ = {извлечены два белых шара},\n",
        "\n",
        "$B$ = {извлечены два черных шара}\n",
        "\n",
        "Указание. Пусть событие $C_1$ = {первый шар белый}, событие $C_2$ = {второй шар белый}. Тогда $A = C_1C_2$, $B = \\overline C_1 \\overline C_2$ "
      ]
    },
    {
      "cell_type": "code",
      "execution_count": null,
      "metadata": {
        "id": "WSLnhk2sdBt_"
      },
      "outputs": [],
      "source": []
    }
  ],
  "metadata": {
    "colab": {
      "provenance": [],
      "include_colab_link": true
    },
    "kernelspec": {
      "display_name": "Python 3 (ipykernel)",
      "language": "python",
      "name": "python3"
    },
    "language_info": {
      "codemirror_mode": {
        "name": "ipython",
        "version": 3
      },
      "file_extension": ".py",
      "mimetype": "text/x-python",
      "name": "python",
      "nbconvert_exporter": "python",
      "pygments_lexer": "ipython3",
      "version": "3.9.13"
    }
  },
  "nbformat": 4,
  "nbformat_minor": 0
}