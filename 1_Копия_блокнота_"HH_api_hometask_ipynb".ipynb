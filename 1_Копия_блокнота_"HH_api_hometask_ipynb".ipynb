{
  "cells": [
    {
      "cell_type": "markdown",
      "metadata": {
        "id": "view-in-github",
        "colab_type": "text"
      },
      "source": [
        "<a href=\"https://colab.research.google.com/github/Andbwol/Sber_lesson2/blob/main/1_%D0%9A%D0%BE%D0%BF%D0%B8%D1%8F_%D0%B1%D0%BB%D0%BE%D0%BA%D0%BD%D0%BE%D1%82%D0%B0_%22HH_api_hometask_ipynb%22.ipynb\" target=\"_parent\"><img src=\"https://colab.research.google.com/assets/colab-badge.svg\" alt=\"Open In Colab\"/></a>"
      ]
    },
    {
      "cell_type": "markdown",
      "source": [
        "# Задание\n",
        "* Cкачайте все вакансии СБЕРа из api hh.ru (https://github.com/hhru/api у апи есть ограничение в 2000, подумайте как его обойти)\n",
        "* Извлеките все полные описания этих вакансий по запросу с https://api.hh.ru/vacancies/43326020 где 43326020 id вакансии\n",
        "* Создайте DataFrame в котором будут даты публикации вакансий, названия, описания,  только добавьте поле ключевые навыки\n",
        "* Переведите даты публикаций в формат datetime и постройте график опубликованных вакансий по датам\n",
        "* Переведите даты в дни недели, и определите день недели, в который больше всего публикуют вакансий\n",
        "* Найдите вакансии с использованием python, которые вам интересны\n",
        "* Определите по полю с ключевыми навыками, какие навыки больше всего востребованы для найденных вакансий\n",
        "* Постройте график наиболее востребованных навыков"
      ],
      "metadata": {
        "collapsed": false,
        "id": "HWzCKiX5D7Mb"
      }
    },
    {
      "cell_type": "code",
      "execution_count": null,
      "outputs": [],
      "source": [
        "import requests\n",
        "from tqdm.auto import tqdm"
      ],
      "metadata": {
        "id": "-DWAbvU1D7Mh"
      }
    },
    {
      "cell_type": "code",
      "execution_count": 360,
      "metadata": {
        "id": "T-9spp6kD7Mj"
      },
      "outputs": [],
      "source": [
        "sber = '3529'\n",
        "page = 1\n",
        "num_per_page = 100\n",
        "moscow = 1\n",
        "url = f'https://api.hh.ru/vacancies?employer_id={sber}&page={page}&per_page={num_per_page}'"
      ]
    },
    {
      "cell_type": "code",
      "execution_count": 369,
      "metadata": {
        "id": "xdUJdRPuD7Mk",
        "outputId": "7f151831-66ec-44b9-bfc6-7b2b23eb7e5b",
        "colab": {
          "base_uri": "https://localhost:8080/"
        }
      },
      "outputs": [
        {
          "output_type": "execute_result",
          "data": {
            "text/plain": [
              "20"
            ]
          },
          "metadata": {},
          "execution_count": 369
        }
      ],
      "source": [
        "res = requests.get(url)\n",
        "vacancies = res.json()\n",
        "num_pages = vacancies.get('pages')\n",
        "num_pages"
      ]
    },
    {
      "cell_type": "code",
      "execution_count": 351,
      "metadata": {
        "id": "JweyPbb-D7Mn"
      },
      "outputs": [],
      "source": [
        "vacancies = res.json()\n",
        "num_pages = vacancies.get('pages')\n",
        "vacancy_ids = [el.get('id') for el in vacancies.get('items')]"
      ]
    },
    {
      "cell_type": "code",
      "execution_count": 352,
      "metadata": {
        "id": "JWKzfArPD7Mp",
        "outputId": "8870cfa0-c886-4645-c51d-103743106c24",
        "colab": {
          "base_uri": "https://localhost:8080/"
        }
      },
      "outputs": [
        {
          "output_type": "execute_result",
          "data": {
            "text/plain": [
              "dict_keys(['items', 'found', 'pages', 'per_page', 'page', 'clusters', 'arguments', 'alternate_url'])"
            ]
          },
          "metadata": {},
          "execution_count": 352
        }
      ],
      "source": [
        "vacancies.keys()"
      ]
    },
    {
      "cell_type": "code",
      "source": [
        "all_vacancy_ids= []"
      ],
      "metadata": {
        "id": "ACql2DeTuq9P"
      },
      "execution_count": null,
      "outputs": []
    },
    {
      "cell_type": "code",
      "execution_count": 376,
      "metadata": {
        "id": "VengspsDD7Mr",
        "outputId": "af07ed90-14e6-44da-979b-abb327e601cb",
        "colab": {
          "referenced_widgets": [
            "7fdaa48077344cbba29e4d46841ca6af",
            "0ee2104ac9154e389c12206e7ee474a6",
            "0e632cde959a4958ab5a36b466a757db",
            "3b1f59c8f4d04b20ba945ec6a63a3438",
            "d22c23a27570478089eb112f18ecc7de",
            "f0e80bf91c154c639ff9e8e172bb7261",
            "3eafaf0bf89b4373bf4037831ab6a93b",
            "eabce33cba9f480d8caf901abb5c3ac6",
            "1152f02df7a847939a95c4e9d5d20a83",
            "95f7762529234da18205bf96c50bb67d",
            "a3f40144550a4291b33a0840a01bb6b3"
          ],
          "base_uri": "https://localhost:8080/",
          "height": 49
        }
      },
      "outputs": [
        {
          "output_type": "display_data",
          "data": {
            "text/plain": [
              "  0%|          | 0/17 [00:00<?, ?it/s]"
            ],
            "application/vnd.jupyter.widget-view+json": {
              "version_major": 2,
              "version_minor": 0,
              "model_id": "7fdaa48077344cbba29e4d46841ca6af"
            }
          },
          "metadata": {}
        }
      ],
      "source": [
        "for i in tqdm(range(vacancies.get('pages'))):\n",
        "    url = f'https://api.hh.ru/vacancies?employer_id={sber}&page={i}&per_page={num_per_page}&&date_from=2023-01-01&date_to=2023-03-04'\n",
        "    # дальше разбил по датам на 4 порции (каждая меньше 2000) и закачал\n",
        "    res = requests.get(url)\n",
        "    vacancies = res.json()\n",
        "    vacancy_ids = [el.get('id') for el in vacancies.get('items')]\n",
        "    all_vacancy_ids.extend(vacancy_ids)"
      ]
    },
    {
      "cell_type": "code",
      "source": [
        "len(all_vacancy_ids)"
      ],
      "metadata": {
        "colab": {
          "base_uri": "https://localhost:8080/"
        },
        "id": "3C73UmFLVQUi",
        "outputId": "8ab56cd6-64d2-4b55-a332-564099b9e50b"
      },
      "execution_count": 379,
      "outputs": [
        {
          "output_type": "execute_result",
          "data": {
            "text/plain": [
              "6484"
            ]
          },
          "metadata": {},
          "execution_count": 379
        }
      ]
    },
    {
      "cell_type": "code",
      "execution_count": null,
      "metadata": {
        "id": "hvgwxHpvD7Mt"
      },
      "outputs": [],
      "source": [
        "vac_id = 43326020\n",
        "url = f'https://api.hh.ru/vacancies/{vac_id}'\n",
        "res = requests.get(url)\n",
        "vacancy = res.json()\n"
      ]
    },
    {
      "cell_type": "code",
      "source": [
        "vacancy = []\n",
        "for i in all_vacancy_ids:\n",
        "    url = f'https://api.hh.ru/vacancies/{i}'\n",
        "    res = requests.get(url)\n",
        "    vacancy.append(res.json())\n"
      ],
      "metadata": {
        "id": "L1asowf6MGsf"
      },
      "execution_count": 378,
      "outputs": []
    },
    {
      "cell_type": "code",
      "source": [
        "len(vacancy)"
      ],
      "metadata": {
        "id": "6YEuCnJ2RrCT",
        "colab": {
          "base_uri": "https://localhost:8080/"
        },
        "outputId": "be7d87b6-f64e-41b4-fd92-0cd0660d11b6"
      },
      "execution_count": 380,
      "outputs": [
        {
          "output_type": "execute_result",
          "data": {
            "text/plain": [
              "6484"
            ]
          },
          "metadata": {},
          "execution_count": 380
        }
      ]
    },
    {
      "cell_type": "markdown",
      "source": [
        "* Создайте DataFrame в котором будут даты публикации вакансий, названия, описания,  только добавьте поле ключевые навыки"
      ],
      "metadata": {
        "collapsed": false,
        "id": "Ct-PZECaRyLb"
      }
    },
    {
      "cell_type": "code",
      "source": [],
      "metadata": {
        "id": "jEsf170DSAc_"
      },
      "execution_count": null,
      "outputs": []
    },
    {
      "cell_type": "markdown",
      "source": [
        "# Задание\n",
        "* Cкачайте все вакансии СБЕРа из api hh.ru (https://github.com/hhru/api у апи есть ограничение в 2000, подумайте как его обойти)\n",
        "* Извлеките все полные описания этих вакансий по запросу с https://api.hh.ru/vacancies/43326020 где 43326020 id вакансии\n",
        "* Создайте DataFrame в котором будут даты публикации вакансий, названия, описания,  только добавьте поле ключевые навыки\n",
        "* Переведите даты публикаций в формат datetime и постройте график опубликованных вакансий по датам\n",
        "* Переведите даты в дни недели, и определите день недели, в который больше всего публикуют вакансий\n",
        "* Найдите вакансии с использованием python, которые вам интересны\n",
        "* Определите по полю с ключевыми навыками, какие навыки больше всего востребованы для найденных вакансий\n",
        "* Постройте график наиболее востребованных навыков"
      ],
      "metadata": {
        "collapsed": false,
        "id": "Ny5oiRVJRsaR"
      }
    },
    {
      "cell_type": "code",
      "source": [
        "len(vacancy)"
      ],
      "metadata": {
        "colab": {
          "base_uri": "https://localhost:8080/"
        },
        "id": "icMEnL0BGm0b",
        "outputId": "4fd158ef-a4ee-4ba5-a8c2-7490e7fba24e"
      },
      "execution_count": 381,
      "outputs": [
        {
          "output_type": "execute_result",
          "data": {
            "text/plain": [
              "6484"
            ]
          },
          "metadata": {},
          "execution_count": 381
        }
      ]
    },
    {
      "cell_type": "code",
      "source": [
        "import pandas as pd"
      ],
      "metadata": {
        "id": "Q1I-jvObZjM2"
      },
      "execution_count": 382,
      "outputs": []
    },
    {
      "cell_type": "code",
      "source": [
        "rn = pd.DataFrame.from_dict(vacancy)"
      ],
      "metadata": {
        "id": "SEMsx-DCZtyG"
      },
      "execution_count": 383,
      "outputs": []
    },
    {
      "cell_type": "code",
      "source": [
        "len(rn)"
      ],
      "metadata": {
        "colab": {
          "base_uri": "https://localhost:8080/"
        },
        "id": "VlfsDTf2GcNE",
        "outputId": "b9b2ec69-4beb-436b-e377-ed6ca508c243"
      },
      "execution_count": 384,
      "outputs": [
        {
          "output_type": "execute_result",
          "data": {
            "text/plain": [
              "6484"
            ]
          },
          "metadata": {},
          "execution_count": 384
        }
      ]
    },
    {
      "cell_type": "code",
      "source": [
        "rn_small = rn[[\"id\", \"published_at\", \"name\" ,\"description\", \"key_skills\"]]"
      ],
      "metadata": {
        "id": "CsgIweAUTnGF"
      },
      "execution_count": 385,
      "outputs": []
    },
    {
      "cell_type": "code",
      "source": [
        "len(rn_small)"
      ],
      "metadata": {
        "colab": {
          "base_uri": "https://localhost:8080/"
        },
        "id": "TaKNVES6UtiM",
        "outputId": "35362445-fd43-4f3b-f3b8-8446771bf4e4"
      },
      "execution_count": 386,
      "outputs": [
        {
          "output_type": "execute_result",
          "data": {
            "text/plain": [
              "6484"
            ]
          },
          "metadata": {},
          "execution_count": 386
        }
      ]
    },
    {
      "cell_type": "code",
      "source": [
        "print(rn_small.dtypes)"
      ],
      "metadata": {
        "colab": {
          "base_uri": "https://localhost:8080/"
        },
        "id": "gVMVl5iieEEI",
        "outputId": "414bf24e-0379-4568-87f2-d3104097f975"
      },
      "execution_count": 387,
      "outputs": [
        {
          "output_type": "stream",
          "name": "stdout",
          "text": [
            "id              object\n",
            "published_at    object\n",
            "name            object\n",
            "description     object\n",
            "key_skills      object\n",
            "dtype: object\n"
          ]
        }
      ]
    },
    {
      "cell_type": "code",
      "source": [
        "# Переведите даты публикаций в формат datetime и постройте график опубликованных вакансий по датам"
      ],
      "metadata": {
        "id": "vaHjJ7IWZU_z"
      },
      "execution_count": null,
      "outputs": []
    },
    {
      "cell_type": "code",
      "source": [
        "rn_small['published_at'] = pd.to_datetime(rn_small['published_at'])"
      ],
      "metadata": {
        "colab": {
          "base_uri": "https://localhost:8080/"
        },
        "id": "b3fH0uPnI7Nt",
        "outputId": "edd8cefa-c4ce-4426-a92b-8fa01dfcbbae"
      },
      "execution_count": 388,
      "outputs": [
        {
          "output_type": "stream",
          "name": "stderr",
          "text": [
            "<ipython-input-388-19f96af4a76e>:1: SettingWithCopyWarning: \n",
            "A value is trying to be set on a copy of a slice from a DataFrame.\n",
            "Try using .loc[row_indexer,col_indexer] = value instead\n",
            "\n",
            "See the caveats in the documentation: https://pandas.pydata.org/pandas-docs/stable/user_guide/indexing.html#returning-a-view-versus-a-copy\n",
            "  rn_small['published_at'] = pd.to_datetime(rn_small['published_at'])\n"
          ]
        }
      ]
    },
    {
      "cell_type": "code",
      "source": [
        "print(rn_small.dtypes)"
      ],
      "metadata": {
        "colab": {
          "base_uri": "https://localhost:8080/"
        },
        "id": "AgDmcQqDI8wk",
        "outputId": "e6cd7e45-0aaf-42ed-d555-d08069e6e9cc"
      },
      "execution_count": 389,
      "outputs": [
        {
          "output_type": "stream",
          "name": "stdout",
          "text": [
            "id                                             object\n",
            "published_at    datetime64[ns, pytz.FixedOffset(180)]\n",
            "name                                           object\n",
            "description                                    object\n",
            "key_skills                                     object\n",
            "dtype: object\n"
          ]
        }
      ]
    },
    {
      "cell_type": "code",
      "source": [
        "rn_small.groupby(rn_small['published_at'].dt.date).count().plot(kind='bar', y = 'id', ylabel = 'Количество вакансий', xlabel = 'Дата публикации', legend = 0 );"
      ],
      "metadata": {
        "colab": {
          "base_uri": "https://localhost:8080/",
          "height": 327
        },
        "id": "06YIfWmiXByU",
        "outputId": "00be00b7-541e-4ea9-891c-6e5b75f759c5"
      },
      "execution_count": 390,
      "outputs": [
        {
          "output_type": "display_data",
          "data": {
            "text/plain": [
              "<Figure size 432x288 with 1 Axes>"
            ],
            "image/png": "[encoded data removed]"
          },
          "metadata": {
            "needs_background": "light"
          }
        }
      ]
    },
    {
      "cell_type": "code",
      "source": [
        "#Переведите даты в дни недели, и определите день недели, в который больше всего публикуют вакансий"
      ],
      "metadata": {
        "id": "Mj-21RHcZYA7"
      },
      "execution_count": null,
      "outputs": []
    },
    {
      "cell_type": "code",
      "source": [
        "rn_small['day'] = rn_small['published_at'].dt.day_name()"
      ],
      "metadata": {
        "colab": {
          "base_uri": "https://localhost:8080/"
        },
        "id": "hp3ciSPAZd-b",
        "outputId": "a36faafa-c427-4cff-8d67-eda5497bd7fb"
      },
      "execution_count": 391,
      "outputs": [
        {
          "output_type": "stream",
          "name": "stderr",
          "text": [
            "<ipython-input-391-fb91fa47aa3a>:1: SettingWithCopyWarning: \n",
            "A value is trying to be set on a copy of a slice from a DataFrame.\n",
            "Try using .loc[row_indexer,col_indexer] = value instead\n",
            "\n",
            "See the caveats in the documentation: https://pandas.pydata.org/pandas-docs/stable/user_guide/indexing.html#returning-a-view-versus-a-copy\n",
            "  rn_small['day'] = rn_small['published_at'].dt.day_name()\n"
          ]
        }
      ]
    },
    {
      "cell_type": "code",
      "source": [
        "from collections import Counter\n",
        "Counter(rn_small['day'])"
      ],
      "metadata": {
        "colab": {
          "base_uri": "https://localhost:8080/"
        },
        "id": "TMz3bGoyaAUh",
        "outputId": "109864a8-ea34-4d33-9b6d-9c9a04e58362"
      },
      "execution_count": 392,
      "outputs": [
        {
          "output_type": "execute_result",
          "data": {
            "text/plain": [
              "Counter({'Friday': 957,\n",
              "         'Thursday': 908,\n",
              "         'Saturday': 305,\n",
              "         'Sunday': 1635,\n",
              "         'Wednesday': 868,\n",
              "         'Tuesday': 862,\n",
              "         'Monday': 949})"
            ]
          },
          "metadata": {},
          "execution_count": 392
        }
      ]
    },
    {
      "cell_type": "code",
      "source": [
        "# Найдите вакансии с использованием python, которые вам интересны"
      ],
      "metadata": {
        "id": "X5AgBU0laUr0"
      },
      "execution_count": 393,
      "outputs": []
    },
    {
      "cell_type": "code",
      "source": [
        "rn_small['skills']= ''\n",
        "rn_small = rn_small.astype({'skills':object})"
      ],
      "metadata": {
        "id": "IVae6JqykP_h",
        "colab": {
          "base_uri": "https://localhost:8080/"
        },
        "outputId": "ebaf4e46-4ef5-42f2-907c-5d4cc697fb80"
      },
      "execution_count": 394,
      "outputs": [
        {
          "output_type": "stream",
          "name": "stderr",
          "text": [
            "<ipython-input-394-6834b1a8f38c>:1: SettingWithCopyWarning: \n",
            "A value is trying to be set on a copy of a slice from a DataFrame.\n",
            "Try using .loc[row_indexer,col_indexer] = value instead\n",
            "\n",
            "See the caveats in the documentation: https://pandas.pydata.org/pandas-docs/stable/user_guide/indexing.html#returning-a-view-versus-a-copy\n",
            "  rn_small['skills']= ''\n"
          ]
        }
      ]
    },
    {
      "cell_type": "code",
      "source": [
        "rn_small['skills_str']= ''\n",
        "rn_small = rn_small.astype({'skills_str':object})"
      ],
      "metadata": {
        "id": "4Px6fEYKm2SY"
      },
      "execution_count": 395,
      "outputs": []
    },
    {
      "cell_type": "code",
      "source": [
        "for i in range(len(rn_small)):\n",
        "  skills_str=\"\"\n",
        "  if len(rn_small['key_skills'][i]) !=0:\n",
        "    for j in range(len(rn_small['key_skills'][i])):\n",
        "      skills_str = skills_str + rn_small['key_skills'][i][j]['name']\n",
        "  rn_small['skills_str'][i] = skills_str\n"
      ],
      "metadata": {
        "colab": {
          "base_uri": "https://localhost:8080/"
        },
        "id": "6B9Zm7BJcQRC",
        "outputId": "b0479f5c-bc62-4998-d540-d7118b805ba1"
      },
      "execution_count": 396,
      "outputs": [
        {
          "output_type": "stream",
          "name": "stderr",
          "text": [
            "<ipython-input-396-feaeda7f7aaf>:6: SettingWithCopyWarning: \n",
            "A value is trying to be set on a copy of a slice from a DataFrame\n",
            "\n",
            "See the caveats in the documentation: https://pandas.pydata.org/pandas-docs/stable/user_guide/indexing.html#returning-a-view-versus-a-copy\n",
            "  rn_small['skills_str'][i] = skills_str\n"
          ]
        }
      ]
    },
    {
      "cell_type": "code",
      "source": [
        "for i in range(len(rn_small)):\n",
        "  skills=[]\n",
        "  if len(rn_small['key_skills'][i]) !=0:\n",
        "    for j in range(len(rn_small['key_skills'][i])):\n",
        "      skills.append(rn_small['key_skills'][i][j]['name'])\n",
        "  rn_small['skills'][i] = skills"
      ],
      "metadata": {
        "colab": {
          "base_uri": "https://localhost:8080/"
        },
        "id": "YPmd-hEItsa-",
        "outputId": "a3f40594-db4b-4684-ca3b-32b1f1fc839d"
      },
      "execution_count": 397,
      "outputs": [
        {
          "output_type": "stream",
          "name": "stderr",
          "text": [
            "<ipython-input-397-2e5340ffaef7>:6: SettingWithCopyWarning: \n",
            "A value is trying to be set on a copy of a slice from a DataFrame\n",
            "\n",
            "See the caveats in the documentation: https://pandas.pydata.org/pandas-docs/stable/user_guide/indexing.html#returning-a-view-versus-a-copy\n",
            "  rn_small['skills'][i] = skills\n"
          ]
        }
      ]
    },
    {
      "cell_type": "code",
      "source": [
        "c = 0\n",
        "for i in range(len(rn_small)):\n",
        "    if  rn_small['skills_str'][i].find('Python') >= 0:\n",
        "        c += 1\n",
        "print(c)"
      ],
      "metadata": {
        "colab": {
          "base_uri": "https://localhost:8080/"
        },
        "id": "nGSIZJXrp70H",
        "outputId": "f690c981-e5ee-4663-82c5-f5f764f06e42"
      },
      "execution_count": 398,
      "outputs": [
        {
          "output_type": "stream",
          "name": "stdout",
          "text": [
            "102\n"
          ]
        }
      ]
    },
    {
      "cell_type": "code",
      "source": [
        "my_rn = rn_small[rn_small['name'].str.lower().str.find('аналитик')>= 0]"
      ],
      "metadata": {
        "id": "6ZR9kBGBvcE-"
      },
      "execution_count": 399,
      "outputs": []
    },
    {
      "cell_type": "code",
      "source": [
        "len(my_rn)"
      ],
      "metadata": {
        "colab": {
          "base_uri": "https://localhost:8080/"
        },
        "id": "be6717rQwrbU",
        "outputId": "87e48e7e-8b61-4b6d-f65b-3a1d6d34568e"
      },
      "execution_count": 400,
      "outputs": [
        {
          "output_type": "execute_result",
          "data": {
            "text/plain": [
              "313"
            ]
          },
          "metadata": {},
          "execution_count": 400
        }
      ]
    },
    {
      "cell_type": "code",
      "source": [
        "myrn_python = my_rn[my_rn['skills_str'].str.lower().str.find('python')>= 0]"
      ],
      "metadata": {
        "id": "NjVxYh3frwe-"
      },
      "execution_count": 401,
      "outputs": []
    },
    {
      "cell_type": "code",
      "source": [
        "len(myrn_python)"
      ],
      "metadata": {
        "colab": {
          "base_uri": "https://localhost:8080/"
        },
        "id": "6-NoegjtHCHb",
        "outputId": "0d11393b-0dac-468f-bcce-04f7925a8b02"
      },
      "execution_count": 402,
      "outputs": [
        {
          "output_type": "execute_result",
          "data": {
            "text/plain": [
              "11"
            ]
          },
          "metadata": {},
          "execution_count": 402
        }
      ]
    },
    {
      "cell_type": "code",
      "source": [
        "# Определите по полю с ключевыми навыками, какие навыки больше всего востребованы для найденных вакансий"
      ],
      "metadata": {
        "id": "EXukZe_UxHT9"
      },
      "execution_count": null,
      "outputs": []
    },
    {
      "cell_type": "code",
      "source": [
        "myrn_python=myrn_python.reset_index(drop=True)"
      ],
      "metadata": {
        "id": "_bwq5V0O61CM"
      },
      "execution_count": 403,
      "outputs": []
    },
    {
      "cell_type": "code",
      "source": [
        "skills=[]\n",
        "for i in range(len(myrn_python)):\n",
        "   skills = skills + myrn_python['skills'][i]"
      ],
      "metadata": {
        "id": "ujN1wH2Zyn8V"
      },
      "execution_count": 404,
      "outputs": []
    },
    {
      "cell_type": "code",
      "source": [
        "skills"
      ],
      "metadata": {
        "colab": {
          "base_uri": "https://localhost:8080/"
        },
        "id": "ldgpA7Ho6qwU",
        "outputId": "eae0ef9a-372d-4018-8cfc-30611168e9d0"
      },
      "execution_count": 405,
      "outputs": [
        {
          "output_type": "execute_result",
          "data": {
            "text/plain": [
              "['Python',\n",
              " 'MS SQL',\n",
              " 'Статистический анализ',\n",
              " 'Qlik Sense',\n",
              " 'Математическая статистика',\n",
              " 'SQL',\n",
              " 'Python',\n",
              " 'Анализ данных',\n",
              " 'Аналитическое мышление',\n",
              " 'Английский язык',\n",
              " 'SQL',\n",
              " 'Python',\n",
              " 'MS SQL',\n",
              " 'PostgreSQL',\n",
              " 'ClickHouse',\n",
              " 'Metabase',\n",
              " 'Tableau',\n",
              " 'Python',\n",
              " 'Математическая статистика',\n",
              " 'A/B тесты',\n",
              " 'Python',\n",
              " 'SQL',\n",
              " 'Data Mining',\n",
              " 'Oracle BI',\n",
              " 'Анализ данных',\n",
              " 'Математический анализ',\n",
              " 'MS SQL',\n",
              " 'Python',\n",
              " 'A/B тесты',\n",
              " 'SQL',\n",
              " 'Python',\n",
              " 'PostgreSQL',\n",
              " 'MS SQL',\n",
              " 'Git',\n",
              " 'Python',\n",
              " 'SQL',\n",
              " 'Анализ данных',\n",
              " 'ETL',\n",
              " 'PostgreSQL',\n",
              " 'DWH',\n",
              " 'Базы данных',\n",
              " 'Анализ данных',\n",
              " 'Системный анализ',\n",
              " 'SCALA',\n",
              " 'Spark',\n",
              " 'Hadoop',\n",
              " 'Python',\n",
              " 'Big Data',\n",
              " 'SQL',\n",
              " 'SQL',\n",
              " 'Python',\n",
              " 'BPMN',\n",
              " 'Python',\n",
              " 'MS Visio',\n",
              " 'PostgreSQL',\n",
              " 'SQL']"
            ]
          },
          "metadata": {},
          "execution_count": 405
        }
      ]
    },
    {
      "cell_type": "code",
      "source": [
        "Counter(skills)"
      ],
      "metadata": {
        "colab": {
          "base_uri": "https://localhost:8080/"
        },
        "id": "NwW4Dp5O6tG8",
        "outputId": "e9b5e280-369e-46fb-818e-8133b6dabc02"
      },
      "execution_count": 406,
      "outputs": [
        {
          "output_type": "execute_result",
          "data": {
            "text/plain": [
              "Counter({'Python': 11,\n",
              "         'MS SQL': 4,\n",
              "         'Статистический анализ': 1,\n",
              "         'Qlik Sense': 1,\n",
              "         'Математическая статистика': 2,\n",
              "         'SQL': 8,\n",
              "         'Анализ данных': 4,\n",
              "         'Аналитическое мышление': 1,\n",
              "         'Английский язык': 1,\n",
              "         'PostgreSQL': 4,\n",
              "         'ClickHouse': 1,\n",
              "         'Metabase': 1,\n",
              "         'Tableau': 1,\n",
              "         'A/B тесты': 2,\n",
              "         'Data Mining': 1,\n",
              "         'Oracle BI': 1,\n",
              "         'Математический анализ': 1,\n",
              "         'Git': 1,\n",
              "         'ETL': 1,\n",
              "         'DWH': 1,\n",
              "         'Базы данных': 1,\n",
              "         'Системный анализ': 1,\n",
              "         'SCALA': 1,\n",
              "         'Spark': 1,\n",
              "         'Hadoop': 1,\n",
              "         'Big Data': 1,\n",
              "         'BPMN': 1,\n",
              "         'MS Visio': 1})"
            ]
          },
          "metadata": {},
          "execution_count": 406
        }
      ]
    },
    {
      "cell_type": "code",
      "source": [
        "# Постройте график наиболее востребованных навыков"
      ],
      "metadata": {
        "id": "rB1Ujki26-_G"
      },
      "execution_count": null,
      "outputs": []
    },
    {
      "cell_type": "code",
      "source": [
        "ski = pd.DataFrame(skills, columns=['skill'])"
      ],
      "metadata": {
        "id": "wXJdlhEd8-vb"
      },
      "execution_count": 407,
      "outputs": []
    },
    {
      "cell_type": "code",
      "source": [
        "ski.groupby([\"skill\"]).value_counts().plot(kind='bar');"
      ],
      "metadata": {
        "colab": {
          "base_uri": "https://localhost:8080/",
          "height": 421
        },
        "id": "UiQZZngS-j0L",
        "outputId": "f1e9a22e-4f20-4b77-f348-f3faf65b3d0a"
      },
      "execution_count": 408,
      "outputs": [
        {
          "output_type": "display_data",
          "data": {
            "text/plain": [
              "<Figure size 432x288 with 1 Axes>"
            ],
            "image/png": "[encoded data removed]"
          },
          "metadata": {
            "needs_background": "light"
          }
        }
      ]
    }
  ],
  "metadata": {
    "kernelspec": {
      "display_name": "Python 3",
      "language": "python",
      "name": "python3"
    },
    "language_info": {
      "codemirror_mode": {
        "name": "ipython",
        "version": 3
      },
      "file_extension": ".py",
      "mimetype": "text/x-python",
      "name": "python",
      "nbconvert_exporter": "python",
      "pygments_lexer": "ipython3",
      "version": "3.8.5"
    },
    "colab": {
      "provenance": [],
      "include_colab_link": true
    },
    "widgets": {
      "application/vnd.jupyter.widget-state+json": {
        "7fdaa48077344cbba29e4d46841ca6af": {
          "model_module": "@jupyter-widgets/controls",
          "model_name": "HBoxModel",
          "model_module_version": "1.5.0",
          "state": {
            "_dom_classes": [],
            "_model_module": "@jupyter-widgets/controls",
            "_model_module_version": "1.5.0",
            "_model_name": "HBoxModel",
            "_view_count": null,
            "_view_module": "@jupyter-widgets/controls",
            "_view_module_version": "1.5.0",
            "_view_name": "HBoxView",
            "box_style": "",
            "children": [
              "IPY_MODEL_0ee2104ac9154e389c12206e7ee474a6",
              "IPY_MODEL_0e632cde959a4958ab5a36b466a757db",
              "IPY_MODEL_3b1f59c8f4d04b20ba945ec6a63a3438"
            ],
            "layout": "IPY_MODEL_d22c23a27570478089eb112f18ecc7de"
          }
        },
        "0ee2104ac9154e389c12206e7ee474a6": {
          "model_module": "@jupyter-widgets/controls",
          "model_name": "HTMLModel",
          "model_module_version": "1.5.0",
          "state": {
            "_dom_classes": [],
            "_model_module": "@jupyter-widgets/controls",
            "_model_module_version": "1.5.0",
            "_model_name": "HTMLModel",
            "_view_count": null,
            "_view_module": "@jupyter-widgets/controls",
            "_view_module_version": "1.5.0",
            "_view_name": "HTMLView",
            "description": "",
            "description_tooltip": null,
            "layout": "IPY_MODEL_f0e80bf91c154c639ff9e8e172bb7261",
            "placeholder": "​",
            "style": "IPY_MODEL_3eafaf0bf89b4373bf4037831ab6a93b",
            "value": "100%"
          }
        },
        "0e632cde959a4958ab5a36b466a757db": {
          "model_module": "@jupyter-widgets/controls",
          "model_name": "FloatProgressModel",
          "model_module_version": "1.5.0",
          "state": {
            "_dom_classes": [],
            "_model_module": "@jupyter-widgets/controls",
            "_model_module_version": "1.5.0",
            "_model_name": "FloatProgressModel",
            "_view_count": null,
            "_view_module": "@jupyter-widgets/controls",
            "_view_module_version": "1.5.0",
            "_view_name": "ProgressView",
            "bar_style": "success",
            "description": "",
            "description_tooltip": null,
            "layout": "IPY_MODEL_eabce33cba9f480d8caf901abb5c3ac6",
            "max": 17,
            "min": 0,
            "orientation": "horizontal",
            "style": "IPY_MODEL_1152f02df7a847939a95c4e9d5d20a83",
            "value": 17
          }
        },
        "3b1f59c8f4d04b20ba945ec6a63a3438": {
          "model_module": "@jupyter-widgets/controls",
          "model_name": "HTMLModel",
          "model_module_version": "1.5.0",
          "state": {
            "_dom_classes": [],
            "_model_module": "@jupyter-widgets/controls",
            "_model_module_version": "1.5.0",
            "_model_name": "HTMLModel",
            "_view_count": null,
            "_view_module": "@jupyter-widgets/controls",
            "_view_module_version": "1.5.0",
            "_view_name": "HTMLView",
            "description": "",
            "description_tooltip": null,
            "layout": "IPY_MODEL_95f7762529234da18205bf96c50bb67d",
            "placeholder": "​",
            "style": "IPY_MODEL_a3f40144550a4291b33a0840a01bb6b3",
            "value": " 17/17 [00:13&lt;00:00,  1.82it/s]"
          }
        },
        "d22c23a27570478089eb112f18ecc7de": {
          "model_module": "@jupyter-widgets/base",
          "model_name": "LayoutModel",
          "model_module_version": "1.2.0",
          "state": {
            "_model_module": "@jupyter-widgets/base",
            "_model_module_version": "1.2.0",
            "_model_name": "LayoutModel",
            "_view_count": null,
            "_view_module": "@jupyter-widgets/base",
            "_view_module_version": "1.2.0",
            "_view_name": "LayoutView",
            "align_content": null,
            "align_items": null,
            "align_self": null,
            "border": null,
            "bottom": null,
            "display": null,
            "flex": null,
            "flex_flow": null,
            "grid_area": null,
            "grid_auto_columns": null,
            "grid_auto_flow": null,
            "grid_auto_rows": null,
            "grid_column": null,
            "grid_gap": null,
            "grid_row": null,
            "grid_template_areas": null,
            "grid_template_columns": null,
            "grid_template_rows": null,
            "height": null,
            "justify_content": null,
            "justify_items": null,
            "left": null,
            "margin": null,
            "max_height": null,
            "max_width": null,
            "min_height": null,
            "min_width": null,
            "object_fit": null,
            "object_position": null,
            "order": null,
            "overflow": null,
            "overflow_x": null,
            "overflow_y": null,
            "padding": null,
            "right": null,
            "top": null,
            "visibility": null,
            "width": null
          }
        },
        "f0e80bf91c154c639ff9e8e172bb7261": {
          "model_module": "@jupyter-widgets/base",
          "model_name": "LayoutModel",
          "model_module_version": "1.2.0",
          "state": {
            "_model_module": "@jupyter-widgets/base",
            "_model_module_version": "1.2.0",
            "_model_name": "LayoutModel",
            "_view_count": null,
            "_view_module": "@jupyter-widgets/base",
            "_view_module_version": "1.2.0",
            "_view_name": "LayoutView",
            "align_content": null,
            "align_items": null,
            "align_self": null,
            "border": null,
            "bottom": null,
            "display": null,
            "flex": null,
            "flex_flow": null,
            "grid_area": null,
            "grid_auto_columns": null,
            "grid_auto_flow": null,
            "grid_auto_rows": null,
            "grid_column": null,
            "grid_gap": null,
            "grid_row": null,
            "grid_template_areas": null,
            "grid_template_columns": null,
            "grid_template_rows": null,
            "height": null,
            "justify_content": null,
            "justify_items": null,
            "left": null,
            "margin": null,
            "max_height": null,
            "max_width": null,
            "min_height": null,
            "min_width": null,
            "object_fit": null,
            "object_position": null,
            "order": null,
            "overflow": null,
            "overflow_x": null,
            "overflow_y": null,
            "padding": null,
            "right": null,
            "top": null,
            "visibility": null,
            "width": null
          }
        },
        "3eafaf0bf89b4373bf4037831ab6a93b": {
          "model_module": "@jupyter-widgets/controls",
          "model_name": "DescriptionStyleModel",
          "model_module_version": "1.5.0",
          "state": {
            "_model_module": "@jupyter-widgets/controls",
            "_model_module_version": "1.5.0",
            "_model_name": "DescriptionStyleModel",
            "_view_count": null,
            "_view_module": "@jupyter-widgets/base",
            "_view_module_version": "1.2.0",
            "_view_name": "StyleView",
            "description_width": ""
          }
        },
        "eabce33cba9f480d8caf901abb5c3ac6": {
          "model_module": "@jupyter-widgets/base",
          "model_name": "LayoutModel",
          "model_module_version": "1.2.0",
          "state": {
            "_model_module": "@jupyter-widgets/base",
            "_model_module_version": "1.2.0",
            "_model_name": "LayoutModel",
            "_view_count": null,
            "_view_module": "@jupyter-widgets/base",
            "_view_module_version": "1.2.0",
            "_view_name": "LayoutView",
            "align_content": null,
            "align_items": null,
            "align_self": null,
            "border": null,
            "bottom": null,
            "display": null,
            "flex": null,
            "flex_flow": null,
            "grid_area": null,
            "grid_auto_columns": null,
            "grid_auto_flow": null,
            "grid_auto_rows": null,
            "grid_column": null,
            "grid_gap": null,
            "grid_row": null,
            "grid_template_areas": null,
            "grid_template_columns": null,
            "grid_template_rows": null,
            "height": null,
            "justify_content": null,
            "justify_items": null,
            "left": null,
            "margin": null,
            "max_height": null,
            "max_width": null,
            "min_height": null,
            "min_width": null,
            "object_fit": null,
            "object_position": null,
            "order": null,
            "overflow": null,
            "overflow_x": null,
            "overflow_y": null,
            "padding": null,
            "right": null,
            "top": null,
            "visibility": null,
            "width": null
          }
        },
        "1152f02df7a847939a95c4e9d5d20a83": {
          "model_module": "@jupyter-widgets/controls",
          "model_name": "ProgressStyleModel",
          "model_module_version": "1.5.0",
          "state": {
            "_model_module": "@jupyter-widgets/controls",
            "_model_module_version": "1.5.0",
            "_model_name": "ProgressStyleModel",
            "_view_count": null,
            "_view_module": "@jupyter-widgets/base",
            "_view_module_version": "1.2.0",
            "_view_name": "StyleView",
            "bar_color": null,
            "description_width": ""
          }
        },
        "95f7762529234da18205bf96c50bb67d": {
          "model_module": "@jupyter-widgets/base",
          "model_name": "LayoutModel",
          "model_module_version": "1.2.0",
          "state": {
            "_model_module": "@jupyter-widgets/base",
            "_model_module_version": "1.2.0",
            "_model_name": "LayoutModel",
            "_view_count": null,
            "_view_module": "@jupyter-widgets/base",
            "_view_module_version": "1.2.0",
            "_view_name": "LayoutView",
            "align_content": null,
            "align_items": null,
            "align_self": null,
            "border": null,
            "bottom": null,
            "display": null,
            "flex": null,
            "flex_flow": null,
            "grid_area": null,
            "grid_auto_columns": null,
            "grid_auto_flow": null,
            "grid_auto_rows": null,
            "grid_column": null,
            "grid_gap": null,
            "grid_row": null,
            "grid_template_areas": null,
            "grid_template_columns": null,
            "grid_template_rows": null,
            "height": null,
            "justify_content": null,
            "justify_items": null,
            "left": null,
            "margin": null,
            "max_height": null,
            "max_width": null,
            "min_height": null,
            "min_width": null,
            "object_fit": null,
            "object_position": null,
            "order": null,
            "overflow": null,
            "overflow_x": null,
            "overflow_y": null,
            "padding": null,
            "right": null,
            "top": null,
            "visibility": null,
            "width": null
          }
        },
        "a3f40144550a4291b33a0840a01bb6b3": {
          "model_module": "@jupyter-widgets/controls",
          "model_name": "DescriptionStyleModel",
          "model_module_version": "1.5.0",
          "state": {
            "_model_module": "@jupyter-widgets/controls",
            "_model_module_version": "1.5.0",
            "_model_name": "DescriptionStyleModel",
            "_view_count": null,
            "_view_module": "@jupyter-widgets/base",
            "_view_module_version": "1.2.0",
            "_view_name": "StyleView",
            "description_width": ""
          }
        }
      }
    }
  },
  "nbformat": 4,
  "nbformat_minor": 0
}