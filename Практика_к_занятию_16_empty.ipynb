{
  "cells": [
    {
      "cell_type": "markdown",
      "metadata": {
        "id": "view-in-github",
        "colab_type": "text"
      },
      "source": [
        "<a href=\"https://colab.research.google.com/github/Andbwol/Sber_lesson2/blob/main/%D0%9F%D1%80%D0%B0%D0%BA%D1%82%D0%B8%D0%BA%D0%B0_%D0%BA_%D0%B7%D0%B0%D0%BD%D1%8F%D1%82%D0%B8%D1%8E_16_empty.ipynb\" target=\"_parent\"><img src=\"https://colab.research.google.com/assets/colab-badge.svg\" alt=\"Open In Colab\"/></a>"
      ]
    },
    {
      "cell_type": "markdown",
      "metadata": {
        "id": "pDrecLU-4QjS"
      },
      "source": [
        "# Практика"
      ]
    },
    {
      "cell_type": "markdown",
      "metadata": {
        "id": "gUvTNDlMaV-a"
      },
      "source": [
        "## Определение вероятности. События\n",
        "\n",
        "Требуется сгенерировать необходимые выборки и произвести по ним расчеты"
      ]
    },
    {
      "cell_type": "markdown",
      "metadata": {
        "id": "5V70InEBTgup"
      },
      "source": [
        "### Задача 1\n",
        "Брошено две монеты. Найти вероятность того, что монеты выпали разными сторонами"
      ]
    },
    {
      "cell_type": "code",
      "source": [
        "import pandas as pd\n",
        "import numpy as np\n",
        "import matplotlib.pyplot as plt\n",
        "import random\n",
        "import scipy.stats as sts\n",
        "import warnings\n",
        "warnings.filterwarnings('ignore')"
      ],
      "metadata": {
        "id": "RAzNKd5FgR0B"
      },
      "execution_count": 2,
      "outputs": []
    },
    {
      "cell_type": "markdown",
      "source": [
        "Одна монета выпадет любой стороной. Определим, с какой вероятностью вторая монета выпадет другой (0,5)"
      ],
      "metadata": {
        "id": "YfH9h9qGdvzq"
      }
    },
    {
      "cell_type": "code",
      "source": [
        "sts.binom.pmf(1, 1, 0.5)"
      ],
      "metadata": {
        "colab": {
          "base_uri": "https://localhost:8080/"
        },
        "id": "exQGnFNkujEo",
        "outputId": "59651194-4af4-4774-d1dc-8d97725d8c20"
      },
      "execution_count": 37,
      "outputs": [
        {
          "output_type": "execute_result",
          "data": {
            "text/plain": [
              "0.5"
            ]
          },
          "metadata": {},
          "execution_count": 37
        }
      ]
    },
    {
      "cell_type": "markdown",
      "metadata": {
        "id": "t0XOMos2Tl0e"
      },
      "source": [
        "### Задача 2\n",
        "Брошено три монеты. Описать множество всех элементарных событий. Найти вероятности следующих событий:\n",
        "\n",
        "\n",
        "1.   A = {не выпало ни одного герба}\n",
        "2.   B = {выпало четное число гербов}\n",
        "3.   C = {на третьей монете выпал герб}\n"
      ]
    },
    {
      "cell_type": "code",
      "source": [
        "sts.binom.rvs (1, 0.5, size = 3)"
      ],
      "metadata": {
        "colab": {
          "base_uri": "https://localhost:8080/"
        },
        "id": "Sz_U2FI6eHBF",
        "outputId": "064e28da-4573-4472-aec1-5447ab40dcc8"
      },
      "execution_count": 48,
      "outputs": [
        {
          "output_type": "execute_result",
          "data": {
            "text/plain": [
              "array([1, 1, 1])"
            ]
          },
          "metadata": {},
          "execution_count": 48
        }
      ]
    },
    {
      "cell_type": "code",
      "source": [],
      "metadata": {
        "id": "k_SVIM4veQTq"
      },
      "execution_count": null,
      "outputs": []
    },
    {
      "cell_type": "code",
      "source": [
        "sts.binom.pmf(0, 3, 0.5)"
      ],
      "metadata": {
        "colab": {
          "base_uri": "https://localhost:8080/"
        },
        "id": "QNT9Kbz7vzAp",
        "outputId": "b9de159c-05b2-4382-8ae7-feac88edf2c9"
      },
      "execution_count": 172,
      "outputs": [
        {
          "output_type": "execute_result",
          "data": {
            "text/plain": [
              "0.125"
            ]
          },
          "metadata": {},
          "execution_count": 172
        }
      ]
    },
    {
      "cell_type": "code",
      "source": [
        "sts.binom.pmf(2, 3, 0.5)"
      ],
      "metadata": {
        "colab": {
          "base_uri": "https://localhost:8080/"
        },
        "id": "MSEjj_1bvz7u",
        "outputId": "1ff00f53-b54e-4937-f2d3-494b122041be"
      },
      "execution_count": 177,
      "outputs": [
        {
          "output_type": "execute_result",
          "data": {
            "text/plain": [
              "0.3750000000000001"
            ]
          },
          "metadata": {},
          "execution_count": 177
        }
      ]
    },
    {
      "cell_type": "code",
      "source": [
        "sts.binom.pmf(1, 1, 0.5)"
      ],
      "metadata": {
        "colab": {
          "base_uri": "https://localhost:8080/"
        },
        "id": "TaKkQY6O7nzq",
        "outputId": "5506326a-6786-4225-fef4-851a82ab7b3f"
      },
      "execution_count": 189,
      "outputs": [
        {
          "output_type": "execute_result",
          "data": {
            "text/plain": [
              "0.5"
            ]
          },
          "metadata": {},
          "execution_count": 189
        }
      ]
    },
    {
      "cell_type": "markdown",
      "metadata": {
        "id": "wyEMSPekeHJ8"
      },
      "source": [
        "Предлагается также решить задачи: \n",
        "\n",
        "### Задача 3\n",
        "Из двух претендентов E и L на ответственную должность три члена комиссии должны отобрать одного. Каждый член комиссии должен указать либо одного достойного, либо забраковать обоих. Претендент считается выбранным, если он был признана достойным хотя бы двумя членами комиссии.\n",
        "Найти вероятность событий:\n",
        "\n",
        "A = {рекомендован L}, B = {рекомендован E}\n"
      ]
    },
    {
      "cell_type": "code",
      "execution_count": 195,
      "metadata": {
        "colab": {
          "base_uri": "https://localhost:8080/"
        },
        "id": "LiB3XazXeHJ9",
        "outputId": "bcd8e646-8432-404d-8407-94a956247b28"
      },
      "outputs": [
        {
          "output_type": "execute_result",
          "data": {
            "text/plain": [
              "0.22222222222222218"
            ]
          },
          "metadata": {},
          "execution_count": 195
        }
      ],
      "source": [
        "sts.binom.pmf(2, 3, 1/3)"
      ]
    },
    {
      "cell_type": "markdown",
      "metadata": {
        "id": "peM38mVfYa5B"
      },
      "source": [
        "### Задача 4\n",
        "Брошено две игральных кости. Описать множество элементарных событий. Найти вероятности событий:\n",
        "\n",
        "A = {вышло две \"шестерки\"}\n",
        "\n",
        "B = {сумма выпавших очков не меньше 11}\n",
        "\n",
        "C = {не выпала ни одна \"шестерка\"}"
      ]
    },
    {
      "cell_type": "markdown",
      "source": [
        "A = {вышло две \"шестерки\"}.\n",
        "\n",
        "Вероятность одной \"шестерки\" 1/6. Считаем вероятность попасть 2 раза из 2 попыток\n",
        "\n",
        "Второй способ - всего возможных вариантов 6*6=36. Вероятность 2х шестерок 1/36"
      ],
      "metadata": {
        "id": "eVxh1z7o_xeN"
      }
    },
    {
      "cell_type": "code",
      "execution_count": 196,
      "metadata": {
        "colab": {
          "base_uri": "https://localhost:8080/"
        },
        "id": "AjTktyhkeHKA",
        "outputId": "6cb9eb8e-945c-476b-8f05-1f49dd433df7"
      },
      "outputs": [
        {
          "output_type": "execute_result",
          "data": {
            "text/plain": [
              "0.027777777777777776"
            ]
          },
          "metadata": {},
          "execution_count": 196
        }
      ],
      "source": [
        "sts.binom.pmf(2, 2, 1/6)"
      ]
    },
    {
      "cell_type": "code",
      "source": [
        "1/36"
      ],
      "metadata": {
        "colab": {
          "base_uri": "https://localhost:8080/"
        },
        "id": "mnIkK6grBsH8",
        "outputId": "2fb9521f-7c10-4d48-bcfc-ba15c0c4ac64"
      },
      "execution_count": 203,
      "outputs": [
        {
          "output_type": "execute_result",
          "data": {
            "text/plain": [
              "0.027777777777777776"
            ]
          },
          "metadata": {},
          "execution_count": 203
        }
      ]
    },
    {
      "cell_type": "markdown",
      "source": [
        "B = {сумма выпавших очков не меньше 11}\n",
        "\n",
        "Нам нужно набрать 11 или 12. Это возможно только сочетанием 5 и 6. Вероятность выпадения 5 или 6 = 2/6. Считаем вероятность, что два раза из двух выпадет 5 или 6. Но две 5 нас не устраивают, так как 5+5=10 < 11, поэтому вычитаем вероятность их выпадения.\n",
        "\n",
        "Второй способ. Всего вариантов 6*6=36. Нас устраивает 3 случая (6+6, 5+6, 6+5). Итого 3/36"
      ],
      "metadata": {
        "id": "tiZJqsWZ_vrb"
      }
    },
    {
      "cell_type": "code",
      "source": [
        "sts.binom.pmf(2, 2, 2/6) - sts.binom.pmf(2, 2, 1/6)"
      ],
      "metadata": {
        "colab": {
          "base_uri": "https://localhost:8080/"
        },
        "id": "-BBERve_-W6i",
        "outputId": "c4d51ff7-467f-457f-851a-754b66001a08"
      },
      "execution_count": 201,
      "outputs": [
        {
          "output_type": "execute_result",
          "data": {
            "text/plain": [
              "0.08333333333333333"
            ]
          },
          "metadata": {},
          "execution_count": 201
        }
      ]
    },
    {
      "cell_type": "code",
      "source": [
        "3/36"
      ],
      "metadata": {
        "colab": {
          "base_uri": "https://localhost:8080/"
        },
        "id": "alzIyssMCJeA",
        "outputId": "8b6b2de9-c23d-4b30-aa52-75f2dced7cc9"
      },
      "execution_count": 204,
      "outputs": [
        {
          "output_type": "execute_result",
          "data": {
            "text/plain": [
              "0.08333333333333333"
            ]
          },
          "metadata": {},
          "execution_count": 204
        }
      ]
    },
    {
      "cell_type": "markdown",
      "source": [
        "C = {не выпала ни одна \"шестерка\"}\n",
        "\n",
        "Вероятность одной \"шестерки\" 1/6. Считаем вероятность попасть 0 раз из 2 попыток\n",
        "\n",
        "Второй способ - всего возможных вариантов 6*6=36. Нас не устроит по 6 сочетаний с 6 на одном кубике и 5 на другом, так как 66 уже учтен, итого 11 вариантов. (36-11)/36 = 25/36"
      ],
      "metadata": {
        "id": "Ac3QtP5GCVXU"
      }
    },
    {
      "cell_type": "code",
      "source": [
        "sts.binom.pmf(0, 2, 1/6)"
      ],
      "metadata": {
        "colab": {
          "base_uri": "https://localhost:8080/"
        },
        "id": "MARiBKoJ-uMc",
        "outputId": "7be40f72-bdd7-4b61-851d-8e371a3699b0"
      },
      "execution_count": 197,
      "outputs": [
        {
          "output_type": "execute_result",
          "data": {
            "text/plain": [
              "0.6944444444444445"
            ]
          },
          "metadata": {},
          "execution_count": 197
        }
      ]
    },
    {
      "cell_type": "code",
      "source": [
        "25/36"
      ],
      "metadata": {
        "colab": {
          "base_uri": "https://localhost:8080/"
        },
        "id": "UKPNXsQCDg7h",
        "outputId": "30dc6ea2-9649-42ac-b27d-576d710a4c49"
      },
      "execution_count": 205,
      "outputs": [
        {
          "output_type": "execute_result",
          "data": {
            "text/plain": [
              "0.6944444444444444"
            ]
          },
          "metadata": {},
          "execution_count": 205
        }
      ]
    },
    {
      "cell_type": "markdown",
      "metadata": {
        "id": "f-Bi0p8haclB"
      },
      "source": [
        "## Вероятность суммы событий"
      ]
    },
    {
      "cell_type": "markdown",
      "metadata": {
        "id": "g7A7QlvGTnwZ"
      },
      "source": [
        "### Задача 5\n",
        "Брошены две игральные кости. Найти вероятность события D = {выпала хотя бы одна шестёрка}\n"
      ]
    },
    {
      "cell_type": "markdown",
      "source": [
        "Складываем вероятности выпадения 1 шестерки и 2 шестерок"
      ],
      "metadata": {
        "id": "fsivKw8mEVPy"
      }
    },
    {
      "cell_type": "code",
      "execution_count": 207,
      "metadata": {
        "id": "vjtTJN-kUp9D",
        "colab": {
          "base_uri": "https://localhost:8080/"
        },
        "outputId": "0a0a4e90-f6d7-4b36-c232-ae0ec3dde6fd"
      },
      "outputs": [
        {
          "output_type": "execute_result",
          "data": {
            "text/plain": [
              "0.3055555555555555"
            ]
          },
          "metadata": {},
          "execution_count": 207
        }
      ],
      "source": [
        "sts.binom.pmf(1, 2, 1/6) + sts.binom.pmf(2, 2, 1/6)"
      ]
    },
    {
      "cell_type": "markdown",
      "source": [],
      "metadata": {
        "id": "4daGMqZmEfXw"
      }
    },
    {
      "cell_type": "markdown",
      "source": [],
      "metadata": {
        "id": "WAtWMlumEfUv"
      }
    },
    {
      "cell_type": "markdown",
      "metadata": {
        "id": "R1bYSzQQbC6I"
      },
      "source": [
        "Предлагается также решить задачи: \n",
        "\n",
        "### Задача 6\n",
        "В телефонном номере три последние цифры стерлись. Считая, что все возможные значения стершихся цифр равновероятны, найти вероятность событий:\n",
        "\n",
        "A = {Стерлись различные цифры},\n",
        "\n",
        "B = {Стерлись одинаковые цифры},\n",
        "\n",
        "C = {Среди стершихся цифр хотя бы две совпадают},\n",
        "\n",
        "D = {Среди стершихся цифр хотя бы две различны}\n"
      ]
    },
    {
      "cell_type": "markdown",
      "source": [
        "A = {Стерлись различные цифры}\n",
        "\n",
        "Вероятность каждой цифры 1/10.\n",
        "Какая-то 1 цифра (любая) уже есть, нужно понять, с какой вероятностью 2 остальные цифры с ней не совпадут."
      ],
      "metadata": {
        "id": "udDyhC10EsdK"
      }
    },
    {
      "cell_type": "code",
      "source": [
        "sts.binom.pmf(0, 2, 1/10)"
      ],
      "metadata": {
        "colab": {
          "base_uri": "https://localhost:8080/"
        },
        "id": "1n8sa2XCFLn_",
        "outputId": "79231c2f-cf26-449a-99de-1efc3bf76f1f"
      },
      "execution_count": 214,
      "outputs": [
        {
          "output_type": "execute_result",
          "data": {
            "text/plain": [
              "0.81"
            ]
          },
          "metadata": {},
          "execution_count": 214
        }
      ]
    },
    {
      "cell_type": "markdown",
      "source": [
        "B = {Стерлись одинаковые цифры}\n",
        "\n",
        "Вероятность, что обе цифры совпадут с первой"
      ],
      "metadata": {
        "id": "9vY_FDrMGUmR"
      }
    },
    {
      "cell_type": "code",
      "execution_count": 215,
      "metadata": {
        "colab": {
          "base_uri": "https://localhost:8080/"
        },
        "id": "6pcRmKbGeHKE",
        "outputId": "ad753bf8-3bf5-4c8c-abbf-a1605dbbfdba"
      },
      "outputs": [
        {
          "output_type": "execute_result",
          "data": {
            "text/plain": [
              "0.010000000000000002"
            ]
          },
          "metadata": {},
          "execution_count": 215
        }
      ],
      "source": [
        "sts.binom.pmf(2, 2, 1/10)"
      ]
    },
    {
      "cell_type": "markdown",
      "source": [
        "C = {Среди стершихся цифр хотя бы две совпадают},\n",
        "\n",
        "Одна из цифр совпадет с первой"
      ],
      "metadata": {
        "id": "fSVKJRr5Gh5M"
      }
    },
    {
      "cell_type": "code",
      "source": [
        "sts.binom.pmf(1, 2, 1/10)"
      ],
      "metadata": {
        "colab": {
          "base_uri": "https://localhost:8080/"
        },
        "id": "csvZDAIDFuxs",
        "outputId": "5ec72584-59ae-4bca-f98a-00eb6ce4578c"
      },
      "execution_count": 216,
      "outputs": [
        {
          "output_type": "execute_result",
          "data": {
            "text/plain": [
              "0.18000000000000005"
            ]
          },
          "metadata": {},
          "execution_count": 216
        }
      ]
    },
    {
      "cell_type": "markdown",
      "source": [
        "D = {Среди стершихся цифр хотя бы две различны}\n",
        "\n",
        "1. Сумма двух совпавших и всех несовпавших (Вар А + Вар С)\n",
        "2. Из 1 вычесть вероятность совпадения всех 3"
      ],
      "metadata": {
        "id": "qzDja-MKGuOA"
      }
    },
    {
      "cell_type": "code",
      "source": [
        "sts.binom.pmf(0, 2, 1/10) + sts.binom.pmf(1, 2, 1/10)"
      ],
      "metadata": {
        "colab": {
          "base_uri": "https://localhost:8080/"
        },
        "id": "_oHlTK_uHEED",
        "outputId": "9bf76faf-ff5e-4eaa-a1a0-36ea868b61d7"
      },
      "execution_count": 217,
      "outputs": [
        {
          "output_type": "execute_result",
          "data": {
            "text/plain": [
              "0.9900000000000001"
            ]
          },
          "metadata": {},
          "execution_count": 217
        }
      ]
    },
    {
      "cell_type": "code",
      "source": [
        "1 - sts.binom.pmf(2, 2, 1/10)"
      ],
      "metadata": {
        "colab": {
          "base_uri": "https://localhost:8080/"
        },
        "id": "fcmngmRuHZEp",
        "outputId": "e25f1274-2666-4a78-e8cf-5562ff757300"
      },
      "execution_count": 218,
      "outputs": [
        {
          "output_type": "execute_result",
          "data": {
            "text/plain": [
              "0.99"
            ]
          },
          "metadata": {},
          "execution_count": 218
        }
      ]
    },
    {
      "cell_type": "markdown",
      "metadata": {
        "id": "RnugkR8BalK_"
      },
      "source": [
        "## Случайные величины"
      ]
    },
    {
      "cell_type": "markdown",
      "metadata": {
        "id": "yLoZDZ17UVsp"
      },
      "source": [
        "### Задача 7\n",
        "В лотерее имеется 10 билетов, из которых один выигрышный. Размер выигрыша 10 ден. ед.; стоимость билета 1 ден ед. Найти закон распределения случайной величины X, равной чистому выигрышу участника лотереи, который вытаскивает билет первым."
      ]
    },
    {
      "cell_type": "markdown",
      "source": [
        "Чистый выигрыш = Выигрыш*его вероятность - Стоимость билета"
      ],
      "metadata": {
        "id": "sDwUL50ULkqq"
      }
    },
    {
      "cell_type": "code",
      "execution_count": 3,
      "metadata": {
        "id": "oNk432sKUqzT",
        "colab": {
          "base_uri": "https://localhost:8080/"
        },
        "outputId": "8dfc8123-a18e-4644-af6f-3c31833816f6"
      },
      "outputs": [
        {
          "output_type": "execute_result",
          "data": {
            "text/plain": [
              "0.1"
            ]
          },
          "metadata": {},
          "execution_count": 3
        }
      ],
      "source": [
        "sts.binom.pmf(1, 1, 1/10)"
      ]
    },
    {
      "cell_type": "code",
      "source": [
        "sts.binom.pmf(1, 1, 1/10)*10 - 1"
      ],
      "metadata": {
        "colab": {
          "base_uri": "https://localhost:8080/"
        },
        "id": "blxNHATDLoMw",
        "outputId": "e92f8bae-fa0c-4f28-c8c0-695e5261207c"
      },
      "execution_count": 4,
      "outputs": [
        {
          "output_type": "execute_result",
          "data": {
            "text/plain": [
              "0.0"
            ]
          },
          "metadata": {},
          "execution_count": 4
        }
      ]
    },
    {
      "cell_type": "markdown",
      "metadata": {
        "id": "U-NK9liSbpvb"
      },
      "source": [
        "Предлагается также решить задачу: \n",
        "\n",
        "### Задача 8\n",
        "Брошены две игральные кости. Найти закон распределения случайной величины $X$, равной сумме выпавших очков. Найти вероятности событий ${X <= 4}$, ${X > 4}$"
      ]
    },
    {
      "cell_type": "markdown",
      "source": [
        "Всего возможная сумма очков от 2 до 12. Число вариантов 6*6 = 36.\n",
        "\n",
        "Вероятность 2 = 1/36, 3 = 2/36, 4 = 3/36, 5 = 4/36, 6 = 5/36, 7 = 6/36, 8 = 5/36, 9 = 4/36, 10 = 3/36, 11 = 2/36, 12 = 1/36  "
      ],
      "metadata": {
        "id": "vlddf3w6Nah0"
      }
    },
    {
      "cell_type": "markdown",
      "source": [
        "Вероятность X<= 4 = (1+2+3)/36 = 6/36 = 1/6"
      ],
      "metadata": {
        "id": "pMc37ZCOVBlp"
      }
    },
    {
      "cell_type": "markdown",
      "source": [
        "Вероятность X>4 = 1 - Вероятность X<=4 1-1/6 = 5/6"
      ],
      "metadata": {
        "id": "qBu-4lvDVTbA"
      }
    },
    {
      "cell_type": "markdown",
      "source": [
        "Я НЕ ПОНЯЛ, КАК ЭТО РЕШИТЬ ЧЕРЕЗ ПИТОН"
      ],
      "metadata": {
        "id": "GFZ6Gj7FVRpu"
      }
    },
    {
      "cell_type": "markdown",
      "metadata": {
        "id": "shgW4D83awjK"
      },
      "source": [
        "## Условные вероятности"
      ]
    },
    {
      "cell_type": "markdown",
      "metadata": {
        "id": "Fbu1RFZwWZrk"
      },
      "source": [
        "### Задача 9\n",
        "Из колоды (36 карт) вынимают последовательно без возвращения две карты. Найти вероятность того, что первой картой была шестерка, а второй — семерка. Найти условную вероятность того же события при условии, что обе карты бубновой масти.\n"
      ]
    },
    {
      "cell_type": "markdown",
      "source": [
        "Нужно сложить вероятность выбора шестерки. Всего 4 шестерки в колоде, поэтому вероятность выбрать шестерку 4/36"
      ],
      "metadata": {
        "id": "tklr30LcbPW6"
      }
    },
    {
      "cell_type": "code",
      "execution_count": 25,
      "metadata": {
        "id": "037o56awW9-E"
      },
      "outputs": [],
      "source": [
        "Pa = sts.binom.pmf(1, 1, 4/36)"
      ]
    },
    {
      "cell_type": "code",
      "source": [
        "Pa"
      ],
      "metadata": {
        "colab": {
          "base_uri": "https://localhost:8080/"
        },
        "id": "y3FbhX_acMd2",
        "outputId": "c3f4013a-1059-4249-ebb7-9739763e8631"
      },
      "execution_count": 26,
      "outputs": [
        {
          "output_type": "execute_result",
          "data": {
            "text/plain": [
              "0.1111111111111111"
            ]
          },
          "metadata": {},
          "execution_count": 26
        }
      ]
    },
    {
      "cell_type": "markdown",
      "source": [
        "В колоде осталось 35 карт и 4 семерки, поэтому вероятность выбрать второй картой 7-ку 4/35"
      ],
      "metadata": {
        "id": "ZZBinzv-bel-"
      }
    },
    {
      "cell_type": "code",
      "source": [
        "Pb = sts.binom.pmf(1, 1, 4/35)"
      ],
      "metadata": {
        "id": "DW1a_vTTbcmO"
      },
      "execution_count": 27,
      "outputs": []
    },
    {
      "cell_type": "code",
      "source": [
        "Pb"
      ],
      "metadata": {
        "colab": {
          "base_uri": "https://localhost:8080/"
        },
        "id": "fOsUcCQJcQ9m",
        "outputId": "498fa8ab-fe59-4029-a9f0-f68b08a70faa"
      },
      "execution_count": 28,
      "outputs": [
        {
          "output_type": "execute_result",
          "data": {
            "text/plain": [
              "0.11428571428571428"
            ]
          },
          "metadata": {},
          "execution_count": 28
        }
      ]
    },
    {
      "cell_type": "markdown",
      "source": [
        "Вероятность совместного появления двух независимых событий A и B равна произведению вероятностей этих событий: P (AB) = P (A) × P (B)\n",
        "Перемножим эти события"
      ],
      "metadata": {
        "id": "MBloy-gccDsd"
      }
    },
    {
      "cell_type": "code",
      "source": [
        "Вероятность совместного появления двух независимых событий A и B равна произведению вероятностей этих событий: P (AB) = P (A) × P (B)"
      ],
      "metadata": {
        "id": "S9_UANhRbrJ5"
      },
      "execution_count": null,
      "outputs": []
    },
    {
      "cell_type": "code",
      "source": [
        "Pa*Pb"
      ],
      "metadata": {
        "colab": {
          "base_uri": "https://localhost:8080/"
        },
        "id": "h8Ff2-H1cTBP",
        "outputId": "0685095e-b0ae-4908-ab79-168baf7cf5bd"
      },
      "execution_count": 29,
      "outputs": [
        {
          "output_type": "execute_result",
          "data": {
            "text/plain": [
              "0.012698412698412697"
            ]
          },
          "metadata": {},
          "execution_count": 29
        }
      ]
    },
    {
      "cell_type": "markdown",
      "source": [
        "Вероятность, что первая 6 бубей 1 из 36:"
      ],
      "metadata": {
        "id": "70fCTANacaZG"
      }
    },
    {
      "cell_type": "code",
      "source": [
        "Pa2 = sts.binom.pmf(1, 1, 1/36)"
      ],
      "metadata": {
        "id": "GfyZYmqPcglv"
      },
      "execution_count": 31,
      "outputs": []
    },
    {
      "cell_type": "code",
      "source": [
        "Pa2"
      ],
      "metadata": {
        "colab": {
          "base_uri": "https://localhost:8080/"
        },
        "id": "hv43AgBPcoRO",
        "outputId": "a8956a73-27d6-4db7-c504-734efbe0fac4"
      },
      "execution_count": 32,
      "outputs": [
        {
          "output_type": "execute_result",
          "data": {
            "text/plain": [
              "0.027777777777777776"
            ]
          },
          "metadata": {},
          "execution_count": 32
        }
      ]
    },
    {
      "cell_type": "markdown",
      "source": [
        "Вероятность, что вторая 7 бубей 1 из 35:"
      ],
      "metadata": {
        "id": "_JdfKmE6c0Yu"
      }
    },
    {
      "cell_type": "code",
      "source": [
        "Pb2 = sts.binom.pmf(1, 1, 1/35)"
      ],
      "metadata": {
        "id": "ZSJ6SE0tc7Ab"
      },
      "execution_count": 34,
      "outputs": []
    },
    {
      "cell_type": "code",
      "source": [
        "Pb2"
      ],
      "metadata": {
        "colab": {
          "base_uri": "https://localhost:8080/"
        },
        "id": "3gkxTLR0c_5J",
        "outputId": "cd2c61d5-bbde-498e-e2fd-75c3159be132"
      },
      "execution_count": 35,
      "outputs": [
        {
          "output_type": "execute_result",
          "data": {
            "text/plain": [
              "0.02857142857142857"
            ]
          },
          "metadata": {},
          "execution_count": 35
        }
      ]
    },
    {
      "cell_type": "code",
      "source": [
        "Pa2*Pb2"
      ],
      "metadata": {
        "colab": {
          "base_uri": "https://localhost:8080/"
        },
        "id": "4Co6O7OXdBhf",
        "outputId": "2b2e918f-f91f-490f-d4b0-ed64e2401dd5"
      },
      "execution_count": 36,
      "outputs": [
        {
          "output_type": "execute_result",
          "data": {
            "text/plain": [
              "0.0007936507936507935"
            ]
          },
          "metadata": {},
          "execution_count": 36
        }
      ]
    },
    {
      "cell_type": "markdown",
      "metadata": {
        "id": "hNVxtaz5c57b"
      },
      "source": [
        "Предлагается также решить задачу: \n",
        "\n",
        "### Задача 10\n",
        "Из урны, содержащей два белых и три черных шара, последовательно извлекают два шара; вынутые шары не возвращаются. Если первый шар оказался черным, то перед вторым извлечением в урну добавляют белый шар. В противном случае состав оставшихся шаров не меняют. Найти вероятности событий:\n",
        "\n",
        "$A$ = {извлечены два белых шара},\n",
        "\n",
        "$B$ = {извлечены два черных шара}\n",
        "\n",
        "Указание. Пусть событие $C_1$ = {первый шар белый}, событие $C_2$ = {второй шар белый}. Тогда $A = C_1C_2$, $B = \\overline C_1 \\overline C_2$ "
      ]
    },
    {
      "cell_type": "code",
      "execution_count": null,
      "metadata": {
        "id": "WSLnhk2sdBt_"
      },
      "outputs": [],
      "source": []
    }
  ],
  "metadata": {
    "colab": {
      "provenance": [],
      "include_colab_link": true
    },
    "kernelspec": {
      "display_name": "Python 3 (ipykernel)",
      "language": "python",
      "name": "python3"
    },
    "language_info": {
      "codemirror_mode": {
        "name": "ipython",
        "version": 3
      },
      "file_extension": ".py",
      "mimetype": "text/x-python",
      "name": "python",
      "nbconvert_exporter": "python",
      "pygments_lexer": "ipython3",
      "version": "3.9.13"
    }
  },
  "nbformat": 4,
  "nbformat_minor": 0
}